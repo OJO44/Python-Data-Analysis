{
  "nbformat": 4,
  "nbformat_minor": 0,
  "metadata": {
    "colab": {
      "provenance": [],
      "authorship_tag": "ABX9TyMzZ7SnziDgtCLZJ6M2L/QY",
      "include_colab_link": true
    },
    "kernelspec": {
      "name": "python3",
      "display_name": "Python 3"
    },
    "language_info": {
      "name": "python"
    }
  },
  "cells": [
    {
      "cell_type": "markdown",
      "metadata": {
        "id": "view-in-github",
        "colab_type": "text"
      },
      "source": [
        "<a href=\"https://colab.research.google.com/github/OJO44/Python-Data-Analysis/blob/main/PdPractice2S%26F.ipynb\" target=\"_parent\"><img src=\"https://colab.research.google.com/assets/colab-badge.svg\" alt=\"Open In Colab\"/></a>"
      ]
    },
    {
      "cell_type": "markdown",
      "source": [
        "Sorting and Filtering Data"
      ],
      "metadata": {
        "id": "BNFCJWW6vor6"
      }
    },
    {
      "cell_type": "code",
      "source": [
        "#Step 1. Import the necessary libraries\n",
        "import pandas as pd\n"
      ],
      "metadata": {
        "id": "6uFpghVAvuP5"
      },
      "execution_count": 1,
      "outputs": []
    },
    {
      "cell_type": "code",
      "source": [
        "#Step 2. Import the dataset from this address.\n",
        "#Step 3. Assign it to a variable called chipo.\n",
        "address = \"https://raw.githubusercontent.com/justmarkham/DAT8/master/data/chipotle.tsv\"\n",
        "chipo = pd.read_csv(address, sep='\\t')\n",
        "print(chipo)\n",
        "# Step 4. How many products cost more than $10.00?\n",
        "products_above_10 = chipo[chipo['item_price'].str.replace('$', '').astype(float) > 10.00]\n",
        "count_products_above_10 = products_above_10['item_name'].nunique()\n",
        "print(\"\\n\")\n",
        "print(f\"The number of products that cost more than $10.00 is: {count_products_above_10}\")"
      ],
      "metadata": {
        "colab": {
          "base_uri": "https://localhost:8080/"
        },
        "id": "mZ3htl27wG3N",
        "outputId": "746485fb-55f2-4f89-af6f-944129bca6fe"
      },
      "execution_count": 7,
      "outputs": [
        {
          "output_type": "stream",
          "name": "stdout",
          "text": [
            "      order_id  quantity                              item_name  \\\n",
            "0            1         1           Chips and Fresh Tomato Salsa   \n",
            "1            1         1                                   Izze   \n",
            "2            1         1                       Nantucket Nectar   \n",
            "3            1         1  Chips and Tomatillo-Green Chili Salsa   \n",
            "4            2         2                           Chicken Bowl   \n",
            "...        ...       ...                                    ...   \n",
            "4617      1833         1                          Steak Burrito   \n",
            "4618      1833         1                          Steak Burrito   \n",
            "4619      1834         1                     Chicken Salad Bowl   \n",
            "4620      1834         1                     Chicken Salad Bowl   \n",
            "4621      1834         1                     Chicken Salad Bowl   \n",
            "\n",
            "                                     choice_description item_price  \n",
            "0                                                   NaN     $2.39   \n",
            "1                                          [Clementine]     $3.39   \n",
            "2                                               [Apple]     $3.39   \n",
            "3                                                   NaN     $2.39   \n",
            "4     [Tomatillo-Red Chili Salsa (Hot), [Black Beans...    $16.98   \n",
            "...                                                 ...        ...  \n",
            "4617  [Fresh Tomato Salsa, [Rice, Black Beans, Sour ...    $11.75   \n",
            "4618  [Fresh Tomato Salsa, [Rice, Sour Cream, Cheese...    $11.75   \n",
            "4619  [Fresh Tomato Salsa, [Fajita Vegetables, Pinto...    $11.25   \n",
            "4620  [Fresh Tomato Salsa, [Fajita Vegetables, Lettu...     $8.75   \n",
            "4621  [Fresh Tomato Salsa, [Fajita Vegetables, Pinto...     $8.75   \n",
            "\n",
            "[4622 rows x 5 columns]\n",
            "\n",
            "\n",
            "The number of products that cost more than $10.00 is: 31\n"
          ]
        },
        {
          "output_type": "stream",
          "name": "stderr",
          "text": [
            "<ipython-input-7-3f84d49bb7b7>:7: FutureWarning: The default value of regex will change from True to False in a future version. In addition, single character regular expressions will *not* be treated as literal strings when regex=True.\n",
            "  products_above_10 = chipo[chipo['item_price'].str.replace('$', '').astype(float) > 10.00]\n"
          ]
        }
      ]
    },
    {
      "cell_type": "code",
      "source": [
        "# Step 5. What is the price of each item?\n",
        "each_item_price_df = chipo[['item_name', 'item_price']]\n",
        "print(each_item_price_df)\n"
      ],
      "metadata": {
        "colab": {
          "base_uri": "https://localhost:8080/"
        },
        "id": "gnBSH9ze0Vm0",
        "outputId": "01578842-b192-411b-d256-5e0aa542685a"
      },
      "execution_count": 9,
      "outputs": [
        {
          "output_type": "stream",
          "name": "stdout",
          "text": [
            "                                  item_name item_price\n",
            "0              Chips and Fresh Tomato Salsa     $2.39 \n",
            "1                                      Izze     $3.39 \n",
            "2                          Nantucket Nectar     $3.39 \n",
            "3     Chips and Tomatillo-Green Chili Salsa     $2.39 \n",
            "4                              Chicken Bowl    $16.98 \n",
            "...                                     ...        ...\n",
            "4617                          Steak Burrito    $11.75 \n",
            "4618                          Steak Burrito    $11.75 \n",
            "4619                     Chicken Salad Bowl    $11.25 \n",
            "4620                     Chicken Salad Bowl     $8.75 \n",
            "4621                     Chicken Salad Bowl     $8.75 \n",
            "\n",
            "[4622 rows x 2 columns]\n"
          ]
        }
      ]
    }
  ]
}