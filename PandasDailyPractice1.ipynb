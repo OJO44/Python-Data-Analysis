{
  "nbformat": 4,
  "nbformat_minor": 0,
  "metadata": {
    "colab": {
      "provenance": [],
      "authorship_tag": "ABX9TyNb2zihSHbzVwD9VD3OiLya",
      "include_colab_link": true
    },
    "kernelspec": {
      "name": "python3",
      "display_name": "Python 3"
    },
    "language_info": {
      "name": "python"
    }
  },
  "cells": [
    {
      "cell_type": "markdown",
      "metadata": {
        "id": "view-in-github",
        "colab_type": "text"
      },
      "source": [
        "<a href=\"https://colab.research.google.com/github/OJO44/Python-Data-Analysis/blob/main/PandasDailyPractice1.ipynb\" target=\"_parent\"><img src=\"https://colab.research.google.com/assets/colab-badge.svg\" alt=\"Open In Colab\"/></a>"
      ]
    },
    {
      "cell_type": "code",
      "execution_count": null,
      "metadata": {
        "colab": {
          "base_uri": "https://localhost:8080/"
        },
        "id": "K1uJ6SAtslu9",
        "outputId": "a414d1c8-5d73-46c6-b46b-e78659286b6f"
      },
      "outputs": [
        {
          "output_type": "stream",
          "name": "stdout",
          "text": [
            "Requirement already satisfied: pandas in /usr/local/lib/python3.10/dist-packages (1.5.3)\n",
            "Requirement already satisfied: python-dateutil>=2.8.1 in /usr/local/lib/python3.10/dist-packages (from pandas) (2.8.2)\n",
            "Requirement already satisfied: pytz>=2020.1 in /usr/local/lib/python3.10/dist-packages (from pandas) (2023.4)\n",
            "Requirement already satisfied: numpy>=1.21.0 in /usr/local/lib/python3.10/dist-packages (from pandas) (1.25.2)\n",
            "Requirement already satisfied: six>=1.5 in /usr/local/lib/python3.10/dist-packages (from python-dateutil>=2.8.1->pandas) (1.16.0)\n"
          ]
        }
      ],
      "source": [
        "pip install pandas"
      ]
    },
    {
      "cell_type": "code",
      "source": [
        "#Step 1. Import the necessary libraries\n",
        "import pandas as pd\n"
      ],
      "metadata": {
        "id": "fbTxpie8s1Ua"
      },
      "execution_count": null,
      "outputs": []
    },
    {
      "cell_type": "code",
      "source": [
        "#Step 2. Create a data dictionary that looks like the DataFrame below\n",
        "pokemon_data = {\"Evolution\": [\"Ivysaur\", \"Charmeleon\", \"Warttortle\", \"Metapod\"],\n",
        "                \"Hp\": [45, 39,44, 45],\n",
        "                \"Name\": [\"Bullbasaur\", \"Charmander\", \"Squirtle\", \"Cartepie\"],\n",
        "                \"Pokedex\": [\"Yes\", \"No\", \"Yes\", \"No\"],\n",
        "                \"Type\": [\"grass\",\"fire\",\"water\", \"bag\"]}\n",
        "#Step 3. Assign it to a variable called pokemon\n",
        "pokemon = pd.DataFrame(pokemon_data)\n",
        "print(pokemon)\n",
        "#Step 4. Ops...it seems the DataFrame columns are in alphabetical order. Place the order of the columns as name, type, hp, evolution, pokedex\n",
        "pokemon = pokemon[[\"Name\", \"Type\", \"Hp\", \"Evolution\", \"Pokedex\"]]\n",
        "print(\"\\n\",pokemon)\n",
        "\n",
        "#Step 5. Add another column called place, and insert what you have in mind.\n",
        "pokemon[\"Players\"] = [\"Eve\", \"Ivy\", \"Mary\", \"Joy\"]\n",
        "print(\"\\n\", pokemon)\n",
        "#Step 6. Present the type of each column\n",
        "print(\"\\n\", pokemon.dtypes)\n",
        "#BONUS: Create your own question and answer it.\n",
        "#find minimum HP\n",
        "MIN_HP = pokemon[\"Hp\"].min()\n",
        "print(\"\\n\" \"Minimum Hp:\", MIN_HP)"
      ],
      "metadata": {
        "colab": {
          "base_uri": "https://localhost:8080/"
        },
        "id": "RDFBcKAmchAV",
        "outputId": "b3b8a010-d583-41d8-f22b-47dd5777998f"
      },
      "execution_count": null,
      "outputs": [
        {
          "output_type": "stream",
          "name": "stdout",
          "text": [
            "    Evolution  Hp        Name Pokedex   Type\n",
            "0     Ivysaur  45  Bullbasaur     Yes  grass\n",
            "1  Charmeleon  39  Charmander      No   fire\n",
            "2  Warttortle  44    Squirtle     Yes  water\n",
            "3     Metapod  45    Cartepie      No    bag\n",
            "\n",
            "          Name   Type  Hp   Evolution Pokedex\n",
            "0  Bullbasaur  grass  45     Ivysaur     Yes\n",
            "1  Charmander   fire  39  Charmeleon      No\n",
            "2    Squirtle  water  44  Warttortle     Yes\n",
            "3    Cartepie    bag  45     Metapod      No\n",
            "\n",
            "          Name   Type  Hp   Evolution Pokedex Players\n",
            "0  Bullbasaur  grass  45     Ivysaur     Yes     Eve\n",
            "1  Charmander   fire  39  Charmeleon      No     Ivy\n",
            "2    Squirtle  water  44  Warttortle     Yes    Mary\n",
            "3    Cartepie    bag  45     Metapod      No     Joy\n",
            "\n",
            " Name         object\n",
            "Type         object\n",
            "Hp            int64\n",
            "Evolution    object\n",
            "Pokedex      object\n",
            "Players      object\n",
            "dtype: object\n",
            "\n",
            "Minimum Hp: 39\n"
          ]
        }
      ]
    },
    {
      "cell_type": "code",
      "source": [],
      "metadata": {
        "id": "OPf4XSoIgwmj"
      },
      "execution_count": null,
      "outputs": []
    }
  ]
}