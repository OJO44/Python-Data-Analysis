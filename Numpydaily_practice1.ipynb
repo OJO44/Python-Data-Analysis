{
  "nbformat": 4,
  "nbformat_minor": 0,
  "metadata": {
    "colab": {
      "provenance": [],
      "authorship_tag": "ABX9TyOxz72Ctt3yJTHP3nmS70+8",
      "include_colab_link": true
    },
    "kernelspec": {
      "name": "python3",
      "display_name": "Python 3"
    },
    "language_info": {
      "name": "python"
    }
  },
  "cells": [
    {
      "cell_type": "markdown",
      "metadata": {
        "id": "view-in-github",
        "colab_type": "text"
      },
      "source": [
        "<a href=\"https://colab.research.google.com/github/OJO44/Python-Data-Analysis/blob/main/Numpydaily_practice1.ipynb\" target=\"_parent\"><img src=\"https://colab.research.google.com/assets/colab-badge.svg\" alt=\"Open In Colab\"/></a>"
      ]
    },
    {
      "cell_type": "markdown",
      "source": [
        "\n",
        "**Numpy Exercise 1**"
      ],
      "metadata": {
        "id": "JnU7Jkrls4rA"
      }
    },
    {
      "cell_type": "code",
      "source": [
        "#1. Import numpy\n",
        "import numpy as np\n"
      ],
      "metadata": {
        "id": "ZSxJADGRtBs9"
      },
      "execution_count": 1,
      "outputs": []
    },
    {
      "cell_type": "code",
      "source": [
        "#2. Print the numpy version and the configuration\n",
        "print(\"numpy version:\", np.__version__)\n",
        "print(\"numpy configuration:\")\n",
        "print(np.show_config())"
      ],
      "metadata": {
        "id": "L9Wvw2Dvtwpt"
      },
      "execution_count": null,
      "outputs": []
    },
    {
      "cell_type": "code",
      "source": [
        "#3Create a null vector of size\n",
        "null_vector = np.zeros(10)\n",
        "print(null_vector)"
      ],
      "metadata": {
        "colab": {
          "base_uri": "https://localhost:8080/"
        },
        "id": "fIt3Yr_Au4gd",
        "outputId": "6c1262a9-2b6a-4d5a-bec1-604cea65c869"
      },
      "execution_count": 4,
      "outputs": [
        {
          "output_type": "stream",
          "name": "stdout",
          "text": [
            "[0. 0. 0. 0. 0. 0. 0. 0. 0. 0.]\n"
          ]
        }
      ]
    },
    {
      "cell_type": "code",
      "source": [
        "#4. How to find the memory size of any array\n",
        "null_vector = np.zeros(10)\n",
        "memory_size = null_vector.nbytes\n",
        "print(memory_size)"
      ],
      "metadata": {
        "colab": {
          "base_uri": "https://localhost:8080/"
        },
        "id": "ITa4cLY-vbp4",
        "outputId": "e419888e-5439-4715-a014-940caed51d91"
      },
      "execution_count": 5,
      "outputs": [
        {
          "output_type": "stream",
          "name": "stdout",
          "text": [
            "80\n"
          ]
        }
      ]
    },
    {
      "cell_type": "code",
      "source": [
        "#5. How to get the documentation of the numpy add function from the command line?\n",
        "\n",
        "\n"
      ],
      "metadata": {
        "id": "30fgffnwwTh6"
      },
      "execution_count": null,
      "outputs": []
    },
    {
      "cell_type": "code",
      "source": [
        "#6.  Create a null vector of size 10 but the fifth value which is 1\n",
        "null_vector = np.zeros(10)\n",
        "null_vector[4] = 1   # fifth value should be at index 4\n",
        "print(null_vector)"
      ],
      "metadata": {
        "colab": {
          "base_uri": "https://localhost:8080/"
        },
        "id": "PomFupywwx-g",
        "outputId": "40602ddf-3f32-4b06-c2a1-7d88ad20c4a2"
      },
      "execution_count": 7,
      "outputs": [
        {
          "output_type": "stream",
          "name": "stdout",
          "text": [
            "[0. 0. 0. 0. 1. 0. 0. 0. 0. 0.]\n"
          ]
        }
      ]
    },
    {
      "cell_type": "code",
      "source": [
        "#7. Create a vector with values ranging from 10 to 49\n",
        "vector = np.arange(10, 50)\n",
        "print(vector)"
      ],
      "metadata": {
        "colab": {
          "base_uri": "https://localhost:8080/"
        },
        "id": "clLzJDKbxjO2",
        "outputId": "365a46e6-4283-46b9-ce22-5ebc90c4fa38"
      },
      "execution_count": 8,
      "outputs": [
        {
          "output_type": "stream",
          "name": "stdout",
          "text": [
            "[10 11 12 13 14 15 16 17 18 19 20 21 22 23 24 25 26 27 28 29 30 31 32 33\n",
            " 34 35 36 37 38 39 40 41 42 43 44 45 46 47 48 49]\n"
          ]
        }
      ]
    },
    {
      "cell_type": "code",
      "source": [
        "#8. Reverse a vector (first element becomes last)\n",
        "reversed_vector = np.flip(vector)\n",
        "print(reversed_vector)"
      ],
      "metadata": {
        "colab": {
          "base_uri": "https://localhost:8080/"
        },
        "id": "TYBBvdD8yHHw",
        "outputId": "b27be4de-2634-424d-85ec-08fede104cb5"
      },
      "execution_count": 9,
      "outputs": [
        {
          "output_type": "stream",
          "name": "stdout",
          "text": [
            "[49 48 47 46 45 44 43 42 41 40 39 38 37 36 35 34 33 32 31 30 29 28 27 26\n",
            " 25 24 23 22 21 20 19 18 17 16 15 14 13 12 11 10]\n"
          ]
        }
      ]
    },
    {
      "cell_type": "code",
      "source": [
        "#9. Create a 3x3 matrix with values ranging from 0 to 8\n",
        "arr1 = np.arange(9).reshape(3, 3)\n",
        "print(arr1)"
      ],
      "metadata": {
        "colab": {
          "base_uri": "https://localhost:8080/"
        },
        "id": "d7dSPqAeywB2",
        "outputId": "a0e97a43-44c6-4c06-c686-1a835d803dc2"
      },
      "execution_count": 18,
      "outputs": [
        {
          "output_type": "stream",
          "name": "stdout",
          "text": [
            "[[0 1 2]\n",
            " [3 4 5]\n",
            " [6 7 8]]\n"
          ]
        }
      ]
    },
    {
      "cell_type": "code",
      "source": [
        "#10. Find indices of non-zero elements from [1,2,0,0,4,0]\n",
        "arr = np.array([1, 2, 0, 0, 4, 0]) #converting the list to array\n",
        "non_zero_indices = np.nonzero(arr)\n",
        "\n",
        "print(non_zero_indices)"
      ],
      "metadata": {
        "colab": {
          "base_uri": "https://localhost:8080/"
        },
        "id": "cSQSlTmE2mqe",
        "outputId": "24963675-160a-4c00-dc2a-d17f6b1fd7c1"
      },
      "execution_count": 19,
      "outputs": [
        {
          "output_type": "stream",
          "name": "stdout",
          "text": [
            "(array([0, 1, 4]),)\n"
          ]
        }
      ]
    },
    {
      "cell_type": "code",
      "source": [
        "# 11. Create a 3x3 identity matrix\n",
        "identity_matrix = np.eye(3)\n",
        "print(identity_matrix)"
      ],
      "metadata": {
        "colab": {
          "base_uri": "https://localhost:8080/"
        },
        "id": "Xu2tVng23JkB",
        "outputId": "eee80425-4e14-477e-fd16-bb9461c5cb84"
      },
      "execution_count": 20,
      "outputs": [
        {
          "output_type": "stream",
          "name": "stdout",
          "text": [
            "[[1. 0. 0.]\n",
            " [0. 1. 0.]\n",
            " [0. 0. 1.]]\n"
          ]
        }
      ]
    },
    {
      "cell_type": "code",
      "source": [
        "#12. Create a 3x3x3 array with random values\n",
        "arr2 = np.random.rand(3, 3, 3)\n",
        "print(arr2)"
      ],
      "metadata": {
        "colab": {
          "base_uri": "https://localhost:8080/"
        },
        "id": "mKQVUSjh3lHX",
        "outputId": "260f5512-beff-48c2-e929-145f16f4f07a"
      },
      "execution_count": 23,
      "outputs": [
        {
          "output_type": "stream",
          "name": "stdout",
          "text": [
            "[[[0.48760805 0.06152975 0.74529774]\n",
            "  [0.41099063 0.41671385 0.07169539]\n",
            "  [0.01518738 0.90610224 0.96629117]]\n",
            "\n",
            " [[0.32562384 0.73593834 0.36465664]\n",
            "  [0.1536566  0.1393652  0.5605763 ]\n",
            "  [0.85763525 0.93869512 0.40834122]]\n",
            "\n",
            " [[0.44076349 0.53948276 0.83704105]\n",
            "  [0.746907   0.26073091 0.51063307]\n",
            "  [0.05658264 0.59552029 0.58327256]]]\n"
          ]
        }
      ]
    },
    {
      "cell_type": "code",
      "source": [
        "#13. Create a 10x10 array with random values and find the minimum and maximum values\n",
        "arr3 = np.random.rand(10, 10)\n",
        "min_value = np.min(arr3)\n",
        "max_value = np.max(arr3)\n",
        "print(arr3)\n",
        "print(\"minimum value = : \",  min_value)\n",
        "print(\"maximum value = : \",  max_value)"
      ],
      "metadata": {
        "colab": {
          "base_uri": "https://localhost:8080/"
        },
        "id": "26xsnCAx5dhN",
        "outputId": "f537a3ce-452e-4d16-8201-026e545969a0"
      },
      "execution_count": 24,
      "outputs": [
        {
          "output_type": "stream",
          "name": "stdout",
          "text": [
            "[[0.53642951 0.07420838 0.30610478 0.96578151 0.34886282 0.16202149\n",
            "  0.88182263 0.65060774 0.11256105 0.52371759]\n",
            " [0.87609973 0.06147563 0.09355151 0.77388206 0.63358136 0.19435766\n",
            "  0.21804506 0.31436173 0.96507058 0.4699091 ]\n",
            " [0.84759489 0.6781414  0.44431816 0.88900648 0.01739308 0.44974117\n",
            "  0.70365014 0.79634257 0.67722886 0.67898715]\n",
            " [0.25894264 0.87277949 0.89607026 0.01421448 0.65656327 0.34746905\n",
            "  0.58229226 0.19769152 0.05476155 0.24636491]\n",
            " [0.84329402 0.18077419 0.53475857 0.97030182 0.7185597  0.89880946\n",
            "  0.5002975  0.3693113  0.36368102 0.11702527]\n",
            " [0.73978662 0.43709705 0.16375249 0.14308518 0.1083215  0.28055879\n",
            "  0.75674849 0.51505603 0.60056179 0.43705874]\n",
            " [0.29097814 0.67291113 0.15432774 0.72855499 0.28309098 0.97431847\n",
            "  0.40428054 0.17763544 0.44399978 0.39368774]\n",
            " [0.01618372 0.86376381 0.0548817  0.70356354 0.12083343 0.68994769\n",
            "  0.69389154 0.17901957 0.95926361 0.76463725]\n",
            " [0.05933999 0.31365718 0.84712469 0.05028225 0.59884053 0.89863508\n",
            "  0.64106808 0.87325433 0.52266962 0.14959622]\n",
            " [0.95204366 0.1574724  0.16870244 0.84427044 0.24718034 0.44759041\n",
            "  0.65597508 0.98446371 0.37523885 0.58446484]]\n",
            "minimum value = :  0.014214475253036651\n",
            "maximum value = :  0.9844637145647631\n"
          ]
        }
      ]
    },
    {
      "cell_type": "code",
      "source": [
        "# 14. Create a random vector of size 30 and find the mean value\n",
        "arr3 = np.random.rand(30)\n",
        "mean_value = np.mean(arr3)\n",
        "print(arr3)\n",
        "print(\"\\nmean value =: \", mean_value)"
      ],
      "metadata": {
        "colab": {
          "base_uri": "https://localhost:8080/"
        },
        "id": "FO8Tswx06uze",
        "outputId": "17b98ca5-0817-4628-e2c2-83aee653d99c"
      },
      "execution_count": 26,
      "outputs": [
        {
          "output_type": "stream",
          "name": "stdout",
          "text": [
            "[0.02169592 0.60230697 0.55412606 0.85228251 0.64391274 0.87389544\n",
            " 0.67095966 0.02391829 0.732996   0.0022221  0.03961614 0.79467685\n",
            " 0.23095883 0.86271234 0.53501529 0.97037981 0.63636217 0.24421597\n",
            " 0.72634152 0.83539474 0.5032645  0.35513631 0.3924731  0.92424986\n",
            " 0.8686805  0.25122553 0.75422265 0.03978877 0.39038355 0.48716042]\n",
            "\n",
            "mean value =:  0.5273524836673166\n"
          ]
        }
      ]
    },
    {
      "cell_type": "code",
      "source": [
        "#15. Create a 2d array with 1 on the border and 0 inside\n",
        "arr5 = np.zeros((3,3))\n",
        "print(arr5)\n",
        "arr5[0, :] = 1 #0 indicates the index of the first row\n",
        "arr5[-1, :] = 1 # 1 indicates the index of the last row\n",
        "arr5[:, 0] = 1   #0 indicates the index of the first column\n",
        "arr5[:, -1] = 1  # -1 indicates the index of the last column\n",
        "print(arr5)"
      ],
      "metadata": {
        "colab": {
          "base_uri": "https://localhost:8080/"
        },
        "id": "vVElNGl67fWQ",
        "outputId": "cd262787-b212-4663-90f5-918e91e8485e"
      },
      "execution_count": 30,
      "outputs": [
        {
          "output_type": "stream",
          "name": "stdout",
          "text": [
            "[[0. 0. 0.]\n",
            " [0. 0. 0.]\n",
            " [0. 0. 0.]]\n",
            "[[1. 1. 1.]\n",
            " [1. 0. 1.]\n",
            " [1. 1. 1.]]\n"
          ]
        }
      ]
    }
  ]
}