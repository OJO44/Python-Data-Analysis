{
  "nbformat": 4,
  "nbformat_minor": 0,
  "metadata": {
    "colab": {
      "provenance": [],
      "authorship_tag": "ABX9TyOhjdqA7oDFMo6MT5/k5G+S",
      "include_colab_link": true
    },
    "kernelspec": {
      "name": "python3",
      "display_name": "Python 3"
    },
    "language_info": {
      "name": "python"
    }
  },
  "cells": [
    {
      "cell_type": "markdown",
      "metadata": {
        "id": "view-in-github",
        "colab_type": "text"
      },
      "source": [
        "<a href=\"https://colab.research.google.com/github/OJO44/Python-Data-Analysis/blob/main/Numpy_Daily_Practice_2.ipynb\" target=\"_parent\"><img src=\"https://colab.research.google.com/assets/colab-badge.svg\" alt=\"Open In Colab\"/></a>"
      ]
    },
    {
      "cell_type": "markdown",
      "source": [
        "Numpy Daily Exercise 2"
      ],
      "metadata": {
        "id": "iqgLdv45Ndz7"
      }
    },
    {
      "cell_type": "code",
      "source": [
        "import numpy as np\n"
      ],
      "metadata": {
        "id": "vqtwEd0nNmQd"
      },
      "execution_count": 1,
      "outputs": []
    },
    {
      "cell_type": "code",
      "source": [
        "#16. How to add a border (filled with 0's) around an existing array\n",
        "arr1 = np.array([[1, 2, 3],\n",
        "                  [4, 5, 6],\n",
        "                  [7, 8, 9]])\n",
        "print(arr1)\n",
        "arr2 = np.zeros_like(arr1)\n",
        "print(arr2)"
      ],
      "metadata": {
        "colab": {
          "base_uri": "https://localhost:8080/"
        },
        "id": "f_rN7qQPN2By",
        "outputId": "0a73fd9b-7dfa-4425-8633-b13826a8bac1"
      },
      "execution_count": 7,
      "outputs": [
        {
          "output_type": "stream",
          "name": "stdout",
          "text": [
            "[[1 2 3]\n",
            " [4 5 6]\n",
            " [7 8 9]]\n",
            "[[0 0 0]\n",
            " [0 0 0]\n",
            " [0 0 0]]\n"
          ]
        }
      ]
    },
    {
      "cell_type": "code",
      "source": [
        "#17. What is the result of the following expression\n",
        "0 * np.nan"
      ],
      "metadata": {
        "colab": {
          "base_uri": "https://localhost:8080/"
        },
        "id": "5kglSppBSmyC",
        "outputId": "0ca8f4b6-005c-48e8-97c6-3f64f7d34453"
      },
      "execution_count": 8,
      "outputs": [
        {
          "output_type": "execute_result",
          "data": {
            "text/plain": [
              "nan"
            ]
          },
          "metadata": {},
          "execution_count": 8
        }
      ]
    },
    {
      "cell_type": "code",
      "source": [
        "np.nan == np.nan"
      ],
      "metadata": {
        "colab": {
          "base_uri": "https://localhost:8080/"
        },
        "id": "HYgpkir8TwBh",
        "outputId": "855f3e53-314f-4801-dda0-d55d5c3fe530"
      },
      "execution_count": 9,
      "outputs": [
        {
          "output_type": "execute_result",
          "data": {
            "text/plain": [
              "False"
            ]
          },
          "metadata": {},
          "execution_count": 9
        }
      ]
    },
    {
      "cell_type": "code",
      "source": [
        "np.inf > np.nan"
      ],
      "metadata": {
        "colab": {
          "base_uri": "https://localhost:8080/"
        },
        "id": "towXmOchT4JU",
        "outputId": "8a7bb478-d8f3-42de-ec2e-d377a0945526"
      },
      "execution_count": 10,
      "outputs": [
        {
          "output_type": "execute_result",
          "data": {
            "text/plain": [
              "False"
            ]
          },
          "metadata": {},
          "execution_count": 10
        }
      ]
    },
    {
      "cell_type": "code",
      "source": [
        "np.nan - np.nan"
      ],
      "metadata": {
        "colab": {
          "base_uri": "https://localhost:8080/"
        },
        "id": "plvRsrTST8Wd",
        "outputId": "fbabb42b-7b2b-4562-cde5-585c78b06504"
      },
      "execution_count": 11,
      "outputs": [
        {
          "output_type": "execute_result",
          "data": {
            "text/plain": [
              "nan"
            ]
          },
          "metadata": {},
          "execution_count": 11
        }
      ]
    },
    {
      "cell_type": "code",
      "source": [
        "np.nan in set([np.nan])"
      ],
      "metadata": {
        "colab": {
          "base_uri": "https://localhost:8080/"
        },
        "id": "y7FlozBJUH3d",
        "outputId": "0ff755bc-2590-4c52-92ba-7cbfc9adeb09"
      },
      "execution_count": 12,
      "outputs": [
        {
          "output_type": "execute_result",
          "data": {
            "text/plain": [
              "True"
            ]
          },
          "metadata": {},
          "execution_count": 12
        }
      ]
    },
    {
      "cell_type": "code",
      "source": [
        "0.3 == 3 * 0.1"
      ],
      "metadata": {
        "colab": {
          "base_uri": "https://localhost:8080/"
        },
        "id": "I7kgREKVUKVh",
        "outputId": "00813ef2-6444-4185-8943-7d082f1f9c15"
      },
      "execution_count": 13,
      "outputs": [
        {
          "output_type": "execute_result",
          "data": {
            "text/plain": [
              "False"
            ]
          },
          "metadata": {},
          "execution_count": 13
        }
      ]
    },
    {
      "cell_type": "code",
      "source": [
        "#18. Create a 5x5 matrix with values 1,2,3,4 just below the diagonal\n",
        "arr5 = np.zeros((5, 5))\n",
        "values =  np.array([1, 2, 3, 4])\n",
        "np.fill_diagonal(arr5[1:], values) #arr5[1:] selects a sub-array of arr5 starting from the second row (index 1) to the end of the array\n",
        "print(arr5)"
      ],
      "metadata": {
        "colab": {
          "base_uri": "https://localhost:8080/"
        },
        "id": "sZT2Ltx-UTTY",
        "outputId": "b117ec47-ef88-49e7-d6a8-7d16ea25e2ae"
      },
      "execution_count": 14,
      "outputs": [
        {
          "output_type": "stream",
          "name": "stdout",
          "text": [
            "[[0. 0. 0. 0. 0.]\n",
            " [1. 0. 0. 0. 0.]\n",
            " [0. 2. 0. 0. 0.]\n",
            " [0. 0. 3. 0. 0.]\n",
            " [0. 0. 0. 4. 0.]]\n"
          ]
        }
      ]
    },
    {
      "cell_type": "code",
      "source": [
        "#19. Create a 8x8 matrix and fill it with a checkerboard pattern\n",
        "arr8= np.zeros((8, 8), dtype=int)\n",
        "print(arr8)\n",
        "arr8[::2, ::2] = 1  ## Fill even rows and even columns with 1\n",
        "arr8[1::2, 1::2] =1 # # Fill odd rows and odd columns with 1\n",
        "print(\"\\n\", arr8)"
      ],
      "metadata": {
        "colab": {
          "base_uri": "https://localhost:8080/"
        },
        "id": "7RM8LQwdVmeQ",
        "outputId": "c4b46a38-2e79-4971-c540-a9287fb03c88"
      },
      "execution_count": 17,
      "outputs": [
        {
          "output_type": "stream",
          "name": "stdout",
          "text": [
            "[[0 0 0 0 0 0 0 0]\n",
            " [0 0 0 0 0 0 0 0]\n",
            " [0 0 0 0 0 0 0 0]\n",
            " [0 0 0 0 0 0 0 0]\n",
            " [0 0 0 0 0 0 0 0]\n",
            " [0 0 0 0 0 0 0 0]\n",
            " [0 0 0 0 0 0 0 0]\n",
            " [0 0 0 0 0 0 0 0]]\n",
            "\n",
            " [[1 0 1 0 1 0 1 0]\n",
            " [0 1 0 1 0 1 0 1]\n",
            " [1 0 1 0 1 0 1 0]\n",
            " [0 1 0 1 0 1 0 1]\n",
            " [1 0 1 0 1 0 1 0]\n",
            " [0 1 0 1 0 1 0 1]\n",
            " [1 0 1 0 1 0 1 0]\n",
            " [0 1 0 1 0 1 0 1]]\n"
          ]
        }
      ]
    },
    {
      "cell_type": "code",
      "source": [
        "#20. Consider a (6,7,8) shape array, what is the index (x,y,z) of the 100th element?\n",
        "shape = (6, 7, 8)\n",
        "index_1d = 100\n",
        "index_x_y_z = np.unravel_index(index_1d, shape) #The np.unravel_index() function in NumPy is used to convert the flattened index back to a multi-dimensional index (x, y, z) based on the given shape.\n",
        "print(\"index (x,y,z) of the 100t element is:\", index_x_y_z)"
      ],
      "metadata": {
        "colab": {
          "base_uri": "https://localhost:8080/"
        },
        "id": "La-fHtdWYAV4",
        "outputId": "a2c99136-5061-4953-dc47-5523f1de0c41"
      },
      "execution_count": 20,
      "outputs": [
        {
          "output_type": "stream",
          "name": "stdout",
          "text": [
            "index (x,y,z) of the 100t element is: (1, 5, 4)\n"
          ]
        }
      ]
    },
    {
      "cell_type": "code",
      "source": [
        "#21. Create a checkerboard 8x8 matrix using the tile function\n",
        "checkerboard = np.array([[0, 1], [1, 0]])\n",
        "checkboard8 = np.tile(checkerboard, (4, 4)) #Using np.tile(checkerboard, (4, 4)), we replicate the checkerboard array to create an 8x8 checkerboard matrix by tiling it 4 times in both dimensions.\n",
        "print(checkboard8)\n",
        "\n"
      ],
      "metadata": {
        "colab": {
          "base_uri": "https://localhost:8080/"
        },
        "id": "6o4W2iEkZMeZ",
        "outputId": "9ac80ca8-8d72-49eb-f87a-dbac12743f72"
      },
      "execution_count": 21,
      "outputs": [
        {
          "output_type": "stream",
          "name": "stdout",
          "text": [
            "[[0 1 0 1 0 1 0 1]\n",
            " [1 0 1 0 1 0 1 0]\n",
            " [0 1 0 1 0 1 0 1]\n",
            " [1 0 1 0 1 0 1 0]\n",
            " [0 1 0 1 0 1 0 1]\n",
            " [1 0 1 0 1 0 1 0]\n",
            " [0 1 0 1 0 1 0 1]\n",
            " [1 0 1 0 1 0 1 0]]\n"
          ]
        }
      ]
    },
    {
      "cell_type": "code",
      "source": [
        "#22. Normalize a 5x5 random matrix\n",
        "matrix5 =  np.random.rand(5, 5)\n",
        "Normal_matrix5 =  (matrix5- np.mean(matrix5)) / np.std(matrix5)\n",
        "print(matrix5)\n",
        "print(\"\\n\", Normal_matrix5)\n"
      ],
      "metadata": {
        "colab": {
          "base_uri": "https://localhost:8080/"
        },
        "id": "hF6JQFzJa8u_",
        "outputId": "6268ef92-7669-4e50-e7f2-b4268eadfff5"
      },
      "execution_count": 22,
      "outputs": [
        {
          "output_type": "stream",
          "name": "stdout",
          "text": [
            "[[0.45701961 0.40545487 0.50252746 0.47765625 0.60680513]\n",
            " [0.77452268 0.08393474 0.20880286 0.59867117 0.28619207]\n",
            " [0.88963546 0.14167663 0.80400561 0.52749913 0.82360555]\n",
            " [0.31672077 0.44941171 0.31447594 0.09796703 0.02108182]\n",
            " [0.51618848 0.2646318  0.1708389  0.02196874 0.95790365]]\n",
            "\n",
            " [[ 0.10452312 -0.08625158  0.27288904  0.18087272  0.65868641]\n",
            " [ 1.27919307 -1.27578348 -0.8138074   0.62859308 -0.52748961]\n",
            " [ 1.70507719 -1.06215513  1.38827141  0.36527706  1.46078553]\n",
            " [-0.41454221  0.07637606 -0.42284742 -1.22386805 -1.50832119]\n",
            " [ 0.3234309  -0.60725638 -0.95426311 -1.50503986  1.95764982]]\n"
          ]
        }
      ]
    },
    {
      "cell_type": "code",
      "source": [
        "#23. Create a custom dtype that describes a color as four unsigned bytes (RGBA)\n"
      ],
      "metadata": {
        "id": "X88-ButGdgOh"
      },
      "execution_count": null,
      "outputs": []
    },
    {
      "cell_type": "code",
      "source": [
        "#24. Multiply a 5x3 matrix by a 3x2 matrix (real matrix product)\n",
        "a = np.random.rand(5, 3)\n",
        "b = np.random.rand(3,2)\n",
        "c=  np.dot(a,b)\n",
        "print(c)"
      ],
      "metadata": {
        "colab": {
          "base_uri": "https://localhost:8080/"
        },
        "id": "VZd1p1HLd4t1",
        "outputId": "86c18eab-39ee-4183-c58d-c8ccdd59c857"
      },
      "execution_count": 25,
      "outputs": [
        {
          "output_type": "stream",
          "name": "stdout",
          "text": [
            "[[0.61217108 0.8445912 ]\n",
            " [1.38898055 1.14583865]\n",
            " [1.25890283 1.20578009]\n",
            " [0.56856678 0.82039996]\n",
            " [1.15055775 0.57094902]]\n"
          ]
        }
      ]
    },
    {
      "cell_type": "code",
      "source": [
        "#25. Given a 1D array, negate all elements which are between 3 and 8, in place\n",
        "arr9 = np.array([1, 4, 6, 9, 2, 7, 5, 3, 8])\n",
        "arr9[(arr9> 3) & (arr9< 8)] *= -1\n",
        "print(arr9)"
      ],
      "metadata": {
        "colab": {
          "base_uri": "https://localhost:8080/"
        },
        "id": "rS7_ZTPRepVQ",
        "outputId": "5ed6fc75-160e-4782-ed3f-e3208eb63cd4"
      },
      "execution_count": 26,
      "outputs": [
        {
          "output_type": "stream",
          "name": "stdout",
          "text": [
            "[ 1 -4 -6  9  2 -7 -5  3  8]\n"
          ]
        }
      ]
    },
    {
      "cell_type": "code",
      "source": [
        "#26. What is the output of the following script?\n",
        "print(sum(range(5),-1))\n",
        "from numpy import *\n",
        "print(sum(range(5),-1))"
      ],
      "metadata": {
        "colab": {
          "base_uri": "https://localhost:8080/"
        },
        "id": "tUmbUcEYpOxm",
        "outputId": "e1620407-f3d2-4a24-894c-a2075aae3428"
      },
      "execution_count": 27,
      "outputs": [
        {
          "output_type": "stream",
          "name": "stdout",
          "text": [
            "9\n",
            "10\n"
          ]
        }
      ]
    },
    {
      "cell_type": "code",
      "source": [
        "#27. Consider an integer vector Z, which of these expressions are legal?\n",
        "# Z**Z\n",
        "# 2 << Z >> 2\n",
        "# Z <- Z\n",
        "# 1j*Z\n",
        "# Z/1/1\n",
        "# Z<Z>Z"
      ],
      "metadata": {
        "id": "lXIosMErqa7B"
      },
      "execution_count": null,
      "outputs": []
    },
    {
      "cell_type": "code",
      "source": [
        "#28. What are the result of the following expressions?\n",
        "np.array(0) / np.array(0)\n",
        "np.array(0) // np.array(0)\n",
        "np.array([np.nan]).astype(int).astype(float)"
      ],
      "metadata": {
        "colab": {
          "base_uri": "https://localhost:8080/"
        },
        "id": "8a1czZoyqhx-",
        "outputId": "da9b4390-b16e-44ff-ba32-a65b227c5160"
      },
      "execution_count": 28,
      "outputs": [
        {
          "output_type": "stream",
          "name": "stderr",
          "text": [
            "<ipython-input-28-7280c4eaa491>:2: RuntimeWarning: invalid value encountered in divide\n",
            "  np.array(0) / np.array(0)\n",
            "<ipython-input-28-7280c4eaa491>:3: RuntimeWarning: divide by zero encountered in floor_divide\n",
            "  np.array(0) // np.array(0)\n",
            "<ipython-input-28-7280c4eaa491>:4: RuntimeWarning: invalid value encountered in cast\n",
            "  np.array([np.nan]).astype(int).astype(float)\n"
          ]
        },
        {
          "output_type": "execute_result",
          "data": {
            "text/plain": [
              "array([-9.22337204e+18])"
            ]
          },
          "metadata": {},
          "execution_count": 28
        }
      ]
    },
    {
      "cell_type": "code",
      "source": [
        "#29. How to round away from zero a float array ?"
      ],
      "metadata": {
        "id": "zOngFSn6qo10"
      },
      "execution_count": null,
      "outputs": []
    },
    {
      "cell_type": "code",
      "source": [
        "#30. How to find common values between two arrays?\n",
        "arr10 = np.array([1, 2, 3, 4, 5])\n",
        "arr11 = np.array([2, 4, 5, 6, 7])\n",
        "common_values = np.intersect1d(arr10, arr11)\n",
        "print(common_values)\n",
        "\n"
      ],
      "metadata": {
        "colab": {
          "base_uri": "https://localhost:8080/"
        },
        "id": "Z7uN3IfCq8cE",
        "outputId": "8429a6b9-7c9f-4ec1-a27a-4dbabc8b63c3"
      },
      "execution_count": 29,
      "outputs": [
        {
          "output_type": "stream",
          "name": "stdout",
          "text": [
            "[2 4 5]\n"
          ]
        }
      ]
    }
  ]
}