{
  "nbformat": 4,
  "nbformat_minor": 0,
  "metadata": {
    "colab": {
      "provenance": [],
      "authorship_tag": "ABX9TyNQsUw5nIiIv4bRrCpfmtDq",
      "include_colab_link": true
    },
    "kernelspec": {
      "name": "python3",
      "display_name": "Python 3"
    },
    "language_info": {
      "name": "python"
    }
  },
  "cells": [
    {
      "cell_type": "markdown",
      "metadata": {
        "id": "view-in-github",
        "colab_type": "text"
      },
      "source": [
        "<a href=\"https://colab.research.google.com/github/OJO44/Python-Data-Analysis/blob/main/PythonDailyPractice4WindStat.ipynb\" target=\"_parent\"><img src=\"https://colab.research.google.com/assets/colab-badge.svg\" alt=\"Open In Colab\"/></a>"
      ]
    },
    {
      "cell_type": "markdown",
      "source": [
        "**Wind Stat**"
      ],
      "metadata": {
        "id": "-1xY91ZG-Hvb"
      }
    },
    {
      "cell_type": "code",
      "source": [
        "#Step 1. Import the necessary libraries\n",
        "import pandas as pd\n",
        "import numpy as np\n"
      ],
      "metadata": {
        "id": "Or7Rz4qS-Ld3"
      },
      "execution_count": 1,
      "outputs": []
    },
    {
      "cell_type": "code",
      "source": [
        "#Step 2. Import the dataset from this address\n",
        "#Step 3. Assign it to a variable called data and replace the first 3 columns by a proper datetime index.\n",
        "url = \"https://raw.githubusercontent.com/guipsamora/pandas_exercises/master/06_Stats/Wind_Stats/wind.data\"\n",
        "data = pd.read_csv(url, sep='\\s+', parse_dates=[[0, 1, 2]], dayfirst=True)\n",
        "#the parse_dates parameter is used to specify which columns should be parsed as dates.\n",
        "# When parse_dates is set to a list of lists, it indicates that the specified columns should be combined and parsed as a single datetime column.\n",
        "data.head()\n",
        "\n"
      ],
      "metadata": {
        "colab": {
          "base_uri": "https://localhost:8080/",
          "height": 261
        },
        "id": "vzYLQjx1-dVn",
        "outputId": "e4befd39-0882-43bf-d26a-ae7ae5ee5fa2"
      },
      "execution_count": 3,
      "outputs": [
        {
          "output_type": "stream",
          "name": "stderr",
          "text": [
            "<ipython-input-3-9b8d906ef339>:4: UserWarning: Could not infer format, so each element will be parsed individually, falling back to `dateutil`. To ensure parsing is consistent and as-expected, please specify a format.\n",
            "  data = pd.read_csv(url, sep='\\s+', parse_dates=[[0, 1, 2]], dayfirst=True)\n"
          ]
        },
        {
          "output_type": "execute_result",
          "data": {
            "text/plain": [
              "    Yr_Mo_Dy    RPT    VAL    ROS    KIL    SHA   BIR    DUB    CLA    MUL  \\\n",
              "0 2061-01-01  15.04  14.96  13.17   9.29    NaN  9.87  13.67  10.25  10.83   \n",
              "1 2061-02-01  14.71    NaN  10.83   6.50  12.62  7.67  11.50  10.04   9.79   \n",
              "2 2061-03-01  18.50  16.88  12.33  10.13  11.17  6.17  11.25    NaN   8.50   \n",
              "3 2061-04-01  10.58   6.63  11.75   4.58   4.54  2.88   8.63   1.79   5.83   \n",
              "4 2061-05-01  13.33  13.25  11.42   6.17  10.71  8.21  11.92   6.54  10.92   \n",
              "\n",
              "     CLO    BEL    MAL  \n",
              "0  12.58  18.50  15.04  \n",
              "1   9.67  17.54  13.83  \n",
              "2   7.67  12.75  12.71  \n",
              "3   5.88   5.46  10.88  \n",
              "4  10.34  12.92  11.83  "
            ],
            "text/html": [
              "\n",
              "  <div id=\"df-95177e83-632d-4dd6-bd5d-ecef4325d582\" class=\"colab-df-container\">\n",
              "    <div>\n",
              "<style scoped>\n",
              "    .dataframe tbody tr th:only-of-type {\n",
              "        vertical-align: middle;\n",
              "    }\n",
              "\n",
              "    .dataframe tbody tr th {\n",
              "        vertical-align: top;\n",
              "    }\n",
              "\n",
              "    .dataframe thead th {\n",
              "        text-align: right;\n",
              "    }\n",
              "</style>\n",
              "<table border=\"1\" class=\"dataframe\">\n",
              "  <thead>\n",
              "    <tr style=\"text-align: right;\">\n",
              "      <th></th>\n",
              "      <th>Yr_Mo_Dy</th>\n",
              "      <th>RPT</th>\n",
              "      <th>VAL</th>\n",
              "      <th>ROS</th>\n",
              "      <th>KIL</th>\n",
              "      <th>SHA</th>\n",
              "      <th>BIR</th>\n",
              "      <th>DUB</th>\n",
              "      <th>CLA</th>\n",
              "      <th>MUL</th>\n",
              "      <th>CLO</th>\n",
              "      <th>BEL</th>\n",
              "      <th>MAL</th>\n",
              "    </tr>\n",
              "  </thead>\n",
              "  <tbody>\n",
              "    <tr>\n",
              "      <th>0</th>\n",
              "      <td>2061-01-01</td>\n",
              "      <td>15.04</td>\n",
              "      <td>14.96</td>\n",
              "      <td>13.17</td>\n",
              "      <td>9.29</td>\n",
              "      <td>NaN</td>\n",
              "      <td>9.87</td>\n",
              "      <td>13.67</td>\n",
              "      <td>10.25</td>\n",
              "      <td>10.83</td>\n",
              "      <td>12.58</td>\n",
              "      <td>18.50</td>\n",
              "      <td>15.04</td>\n",
              "    </tr>\n",
              "    <tr>\n",
              "      <th>1</th>\n",
              "      <td>2061-02-01</td>\n",
              "      <td>14.71</td>\n",
              "      <td>NaN</td>\n",
              "      <td>10.83</td>\n",
              "      <td>6.50</td>\n",
              "      <td>12.62</td>\n",
              "      <td>7.67</td>\n",
              "      <td>11.50</td>\n",
              "      <td>10.04</td>\n",
              "      <td>9.79</td>\n",
              "      <td>9.67</td>\n",
              "      <td>17.54</td>\n",
              "      <td>13.83</td>\n",
              "    </tr>\n",
              "    <tr>\n",
              "      <th>2</th>\n",
              "      <td>2061-03-01</td>\n",
              "      <td>18.50</td>\n",
              "      <td>16.88</td>\n",
              "      <td>12.33</td>\n",
              "      <td>10.13</td>\n",
              "      <td>11.17</td>\n",
              "      <td>6.17</td>\n",
              "      <td>11.25</td>\n",
              "      <td>NaN</td>\n",
              "      <td>8.50</td>\n",
              "      <td>7.67</td>\n",
              "      <td>12.75</td>\n",
              "      <td>12.71</td>\n",
              "    </tr>\n",
              "    <tr>\n",
              "      <th>3</th>\n",
              "      <td>2061-04-01</td>\n",
              "      <td>10.58</td>\n",
              "      <td>6.63</td>\n",
              "      <td>11.75</td>\n",
              "      <td>4.58</td>\n",
              "      <td>4.54</td>\n",
              "      <td>2.88</td>\n",
              "      <td>8.63</td>\n",
              "      <td>1.79</td>\n",
              "      <td>5.83</td>\n",
              "      <td>5.88</td>\n",
              "      <td>5.46</td>\n",
              "      <td>10.88</td>\n",
              "    </tr>\n",
              "    <tr>\n",
              "      <th>4</th>\n",
              "      <td>2061-05-01</td>\n",
              "      <td>13.33</td>\n",
              "      <td>13.25</td>\n",
              "      <td>11.42</td>\n",
              "      <td>6.17</td>\n",
              "      <td>10.71</td>\n",
              "      <td>8.21</td>\n",
              "      <td>11.92</td>\n",
              "      <td>6.54</td>\n",
              "      <td>10.92</td>\n",
              "      <td>10.34</td>\n",
              "      <td>12.92</td>\n",
              "      <td>11.83</td>\n",
              "    </tr>\n",
              "  </tbody>\n",
              "</table>\n",
              "</div>\n",
              "    <div class=\"colab-df-buttons\">\n",
              "\n",
              "  <div class=\"colab-df-container\">\n",
              "    <button class=\"colab-df-convert\" onclick=\"convertToInteractive('df-95177e83-632d-4dd6-bd5d-ecef4325d582')\"\n",
              "            title=\"Convert this dataframe to an interactive table.\"\n",
              "            style=\"display:none;\">\n",
              "\n",
              "  <svg xmlns=\"http://www.w3.org/2000/svg\" height=\"24px\" viewBox=\"0 -960 960 960\">\n",
              "    <path d=\"M120-120v-720h720v720H120Zm60-500h600v-160H180v160Zm220 220h160v-160H400v160Zm0 220h160v-160H400v160ZM180-400h160v-160H180v160Zm440 0h160v-160H620v160ZM180-180h160v-160H180v160Zm440 0h160v-160H620v160Z\"/>\n",
              "  </svg>\n",
              "    </button>\n",
              "\n",
              "  <style>\n",
              "    .colab-df-container {\n",
              "      display:flex;\n",
              "      gap: 12px;\n",
              "    }\n",
              "\n",
              "    .colab-df-convert {\n",
              "      background-color: #E8F0FE;\n",
              "      border: none;\n",
              "      border-radius: 50%;\n",
              "      cursor: pointer;\n",
              "      display: none;\n",
              "      fill: #1967D2;\n",
              "      height: 32px;\n",
              "      padding: 0 0 0 0;\n",
              "      width: 32px;\n",
              "    }\n",
              "\n",
              "    .colab-df-convert:hover {\n",
              "      background-color: #E2EBFA;\n",
              "      box-shadow: 0px 1px 2px rgba(60, 64, 67, 0.3), 0px 1px 3px 1px rgba(60, 64, 67, 0.15);\n",
              "      fill: #174EA6;\n",
              "    }\n",
              "\n",
              "    .colab-df-buttons div {\n",
              "      margin-bottom: 4px;\n",
              "    }\n",
              "\n",
              "    [theme=dark] .colab-df-convert {\n",
              "      background-color: #3B4455;\n",
              "      fill: #D2E3FC;\n",
              "    }\n",
              "\n",
              "    [theme=dark] .colab-df-convert:hover {\n",
              "      background-color: #434B5C;\n",
              "      box-shadow: 0px 1px 3px 1px rgba(0, 0, 0, 0.15);\n",
              "      filter: drop-shadow(0px 1px 2px rgba(0, 0, 0, 0.3));\n",
              "      fill: #FFFFFF;\n",
              "    }\n",
              "  </style>\n",
              "\n",
              "    <script>\n",
              "      const buttonEl =\n",
              "        document.querySelector('#df-95177e83-632d-4dd6-bd5d-ecef4325d582 button.colab-df-convert');\n",
              "      buttonEl.style.display =\n",
              "        google.colab.kernel.accessAllowed ? 'block' : 'none';\n",
              "\n",
              "      async function convertToInteractive(key) {\n",
              "        const element = document.querySelector('#df-95177e83-632d-4dd6-bd5d-ecef4325d582');\n",
              "        const dataTable =\n",
              "          await google.colab.kernel.invokeFunction('convertToInteractive',\n",
              "                                                    [key], {});\n",
              "        if (!dataTable) return;\n",
              "\n",
              "        const docLinkHtml = 'Like what you see? Visit the ' +\n",
              "          '<a target=\"_blank\" href=https://colab.research.google.com/notebooks/data_table.ipynb>data table notebook</a>'\n",
              "          + ' to learn more about interactive tables.';\n",
              "        element.innerHTML = '';\n",
              "        dataTable['output_type'] = 'display_data';\n",
              "        await google.colab.output.renderOutput(dataTable, element);\n",
              "        const docLink = document.createElement('div');\n",
              "        docLink.innerHTML = docLinkHtml;\n",
              "        element.appendChild(docLink);\n",
              "      }\n",
              "    </script>\n",
              "  </div>\n",
              "\n",
              "\n",
              "<div id=\"df-e0184854-fc16-4c04-8e61-2d7aacde9a11\">\n",
              "  <button class=\"colab-df-quickchart\" onclick=\"quickchart('df-e0184854-fc16-4c04-8e61-2d7aacde9a11')\"\n",
              "            title=\"Suggest charts\"\n",
              "            style=\"display:none;\">\n",
              "\n",
              "<svg xmlns=\"http://www.w3.org/2000/svg\" height=\"24px\"viewBox=\"0 0 24 24\"\n",
              "     width=\"24px\">\n",
              "    <g>\n",
              "        <path d=\"M19 3H5c-1.1 0-2 .9-2 2v14c0 1.1.9 2 2 2h14c1.1 0 2-.9 2-2V5c0-1.1-.9-2-2-2zM9 17H7v-7h2v7zm4 0h-2V7h2v10zm4 0h-2v-4h2v4z\"/>\n",
              "    </g>\n",
              "</svg>\n",
              "  </button>\n",
              "\n",
              "<style>\n",
              "  .colab-df-quickchart {\n",
              "      --bg-color: #E8F0FE;\n",
              "      --fill-color: #1967D2;\n",
              "      --hover-bg-color: #E2EBFA;\n",
              "      --hover-fill-color: #174EA6;\n",
              "      --disabled-fill-color: #AAA;\n",
              "      --disabled-bg-color: #DDD;\n",
              "  }\n",
              "\n",
              "  [theme=dark] .colab-df-quickchart {\n",
              "      --bg-color: #3B4455;\n",
              "      --fill-color: #D2E3FC;\n",
              "      --hover-bg-color: #434B5C;\n",
              "      --hover-fill-color: #FFFFFF;\n",
              "      --disabled-bg-color: #3B4455;\n",
              "      --disabled-fill-color: #666;\n",
              "  }\n",
              "\n",
              "  .colab-df-quickchart {\n",
              "    background-color: var(--bg-color);\n",
              "    border: none;\n",
              "    border-radius: 50%;\n",
              "    cursor: pointer;\n",
              "    display: none;\n",
              "    fill: var(--fill-color);\n",
              "    height: 32px;\n",
              "    padding: 0;\n",
              "    width: 32px;\n",
              "  }\n",
              "\n",
              "  .colab-df-quickchart:hover {\n",
              "    background-color: var(--hover-bg-color);\n",
              "    box-shadow: 0 1px 2px rgba(60, 64, 67, 0.3), 0 1px 3px 1px rgba(60, 64, 67, 0.15);\n",
              "    fill: var(--button-hover-fill-color);\n",
              "  }\n",
              "\n",
              "  .colab-df-quickchart-complete:disabled,\n",
              "  .colab-df-quickchart-complete:disabled:hover {\n",
              "    background-color: var(--disabled-bg-color);\n",
              "    fill: var(--disabled-fill-color);\n",
              "    box-shadow: none;\n",
              "  }\n",
              "\n",
              "  .colab-df-spinner {\n",
              "    border: 2px solid var(--fill-color);\n",
              "    border-color: transparent;\n",
              "    border-bottom-color: var(--fill-color);\n",
              "    animation:\n",
              "      spin 1s steps(1) infinite;\n",
              "  }\n",
              "\n",
              "  @keyframes spin {\n",
              "    0% {\n",
              "      border-color: transparent;\n",
              "      border-bottom-color: var(--fill-color);\n",
              "      border-left-color: var(--fill-color);\n",
              "    }\n",
              "    20% {\n",
              "      border-color: transparent;\n",
              "      border-left-color: var(--fill-color);\n",
              "      border-top-color: var(--fill-color);\n",
              "    }\n",
              "    30% {\n",
              "      border-color: transparent;\n",
              "      border-left-color: var(--fill-color);\n",
              "      border-top-color: var(--fill-color);\n",
              "      border-right-color: var(--fill-color);\n",
              "    }\n",
              "    40% {\n",
              "      border-color: transparent;\n",
              "      border-right-color: var(--fill-color);\n",
              "      border-top-color: var(--fill-color);\n",
              "    }\n",
              "    60% {\n",
              "      border-color: transparent;\n",
              "      border-right-color: var(--fill-color);\n",
              "    }\n",
              "    80% {\n",
              "      border-color: transparent;\n",
              "      border-right-color: var(--fill-color);\n",
              "      border-bottom-color: var(--fill-color);\n",
              "    }\n",
              "    90% {\n",
              "      border-color: transparent;\n",
              "      border-bottom-color: var(--fill-color);\n",
              "    }\n",
              "  }\n",
              "</style>\n",
              "\n",
              "  <script>\n",
              "    async function quickchart(key) {\n",
              "      const quickchartButtonEl =\n",
              "        document.querySelector('#' + key + ' button');\n",
              "      quickchartButtonEl.disabled = true;  // To prevent multiple clicks.\n",
              "      quickchartButtonEl.classList.add('colab-df-spinner');\n",
              "      try {\n",
              "        const charts = await google.colab.kernel.invokeFunction(\n",
              "            'suggestCharts', [key], {});\n",
              "      } catch (error) {\n",
              "        console.error('Error during call to suggestCharts:', error);\n",
              "      }\n",
              "      quickchartButtonEl.classList.remove('colab-df-spinner');\n",
              "      quickchartButtonEl.classList.add('colab-df-quickchart-complete');\n",
              "    }\n",
              "    (() => {\n",
              "      let quickchartButtonEl =\n",
              "        document.querySelector('#df-e0184854-fc16-4c04-8e61-2d7aacde9a11 button');\n",
              "      quickchartButtonEl.style.display =\n",
              "        google.colab.kernel.accessAllowed ? 'block' : 'none';\n",
              "    })();\n",
              "  </script>\n",
              "</div>\n",
              "\n",
              "    </div>\n",
              "  </div>\n"
            ],
            "application/vnd.google.colaboratory.intrinsic+json": {
              "type": "dataframe",
              "variable_name": "data",
              "summary": "{\n  \"name\": \"data\",\n  \"rows\": 6574,\n  \"fields\": [\n    {\n      \"column\": \"Yr_Mo_Dy\",\n      \"properties\": {\n        \"dtype\": \"date\",\n        \"min\": \"1974-01-01 00:00:00\",\n        \"max\": \"2073-12-31 00:00:00\",\n        \"num_unique_values\": 6574,\n        \"samples\": [\n          \"2062-04-09 00:00:00\",\n          \"2073-02-28 00:00:00\",\n          \"2064-11-20 00:00:00\"\n        ],\n        \"semantic_type\": \"\",\n        \"description\": \"\"\n      }\n    },\n    {\n      \"column\": \"RPT\",\n      \"properties\": {\n        \"dtype\": \"number\",\n        \"std\": 5.618412959473285,\n        \"min\": 0.67,\n        \"max\": 35.8,\n        \"num_unique_values\": 671,\n        \"samples\": [\n          1.5,\n          4.25,\n          18.29\n        ],\n        \"semantic_type\": \"\",\n        \"description\": \"\"\n      }\n    },\n    {\n      \"column\": \"VAL\",\n      \"properties\": {\n        \"dtype\": \"number\",\n        \"std\": 5.2673564715943675,\n        \"min\": 0.21,\n        \"max\": 33.37,\n        \"num_unique_values\": 607,\n        \"samples\": [\n          1.87,\n          12.62,\n          7.46\n        ],\n        \"semantic_type\": \"\",\n        \"description\": \"\"\n      }\n    },\n    {\n      \"column\": \"ROS\",\n      \"properties\": {\n        \"dtype\": \"number\",\n        \"std\": 5.00844995886674,\n        \"min\": 1.5,\n        \"max\": 33.84,\n        \"num_unique_values\": 611,\n        \"samples\": [\n          13.08,\n          19.92,\n          9.29\n        ],\n        \"semantic_type\": \"\",\n        \"description\": \"\"\n      }\n    },\n    {\n      \"column\": \"KIL\",\n      \"properties\": {\n        \"dtype\": \"number\",\n        \"std\": 3.6058112071455097,\n        \"min\": 0.0,\n        \"max\": 28.46,\n        \"num_unique_values\": 450,\n        \"samples\": [\n          13.67,\n          16.79,\n          5.66\n        ],\n        \"semantic_type\": \"\",\n        \"description\": \"\"\n      }\n    },\n    {\n      \"column\": \"SHA\",\n      \"properties\": {\n        \"dtype\": \"number\",\n        \"std\": 4.936125157203556,\n        \"min\": 0.13,\n        \"max\": 37.54,\n        \"num_unique_values\": 596,\n        \"samples\": [\n          15.21,\n          20.46,\n          37.54\n        ],\n        \"semantic_type\": \"\",\n        \"description\": \"\"\n      }\n    },\n    {\n      \"column\": \"BIR\",\n      \"properties\": {\n        \"dtype\": \"number\",\n        \"std\": 3.9686831153772095,\n        \"min\": 0.0,\n        \"max\": 26.16,\n        \"num_unique_values\": 461,\n        \"samples\": [\n          17.0,\n          7.17,\n          13.29\n        ],\n        \"semantic_type\": \"\",\n        \"description\": \"\"\n      }\n    },\n    {\n      \"column\": \"DUB\",\n      \"properties\": {\n        \"dtype\": \"number\",\n        \"std\": 4.977554606833067,\n        \"min\": 0.0,\n        \"max\": 30.37,\n        \"num_unique_values\": 580,\n        \"samples\": [\n          25.54,\n          18.0,\n          9.13\n        ],\n        \"semantic_type\": \"\",\n        \"description\": \"\"\n      }\n    },\n    {\n      \"column\": \"CLA\",\n      \"properties\": {\n        \"dtype\": \"number\",\n        \"std\": 4.499449045244691,\n        \"min\": 0.0,\n        \"max\": 31.08,\n        \"num_unique_values\": 534,\n        \"samples\": [\n          11.46,\n          8.63,\n          8.17\n        ],\n        \"semantic_type\": \"\",\n        \"description\": \"\"\n      }\n    },\n    {\n      \"column\": \"MUL\",\n      \"properties\": {\n        \"dtype\": \"number\",\n        \"std\": 4.166872499235682,\n        \"min\": 0.0,\n        \"max\": 25.88,\n        \"num_unique_values\": 503,\n        \"samples\": [\n          5.91,\n          9.54,\n          5.54\n        ],\n        \"semantic_type\": \"\",\n        \"description\": \"\"\n      }\n    },\n    {\n      \"column\": \"CLO\",\n      \"properties\": {\n        \"dtype\": \"number\",\n        \"std\": 4.5039544468791535,\n        \"min\": 0.04,\n        \"max\": 28.21,\n        \"num_unique_values\": 533,\n        \"samples\": [\n          7.96,\n          1.67,\n          4.71\n        ],\n        \"semantic_type\": \"\",\n        \"description\": \"\"\n      }\n    },\n    {\n      \"column\": \"BEL\",\n      \"properties\": {\n        \"dtype\": \"number\",\n        \"std\": 5.835037000573735,\n        \"min\": 0.13,\n        \"max\": 42.38,\n        \"num_unique_values\": 687,\n        \"samples\": [\n          14.17,\n          26.04,\n          0.58\n        ],\n        \"semantic_type\": \"\",\n        \"description\": \"\"\n      }\n    },\n    {\n      \"column\": \"MAL\",\n      \"properties\": {\n        \"dtype\": \"number\",\n        \"std\": 6.699793517366434,\n        \"min\": 0.67,\n        \"max\": 42.54,\n        \"num_unique_values\": 779,\n        \"samples\": [\n          25.96,\n          28.84,\n          30.46\n        ],\n        \"semantic_type\": \"\",\n        \"description\": \"\"\n      }\n    }\n  ]\n}"
            }
          },
          "metadata": {},
          "execution_count": 3
        }
      ]
    },
    {
      "cell_type": "code",
      "source": [
        "#Step 4. Year 2061? Do we really have data from this year? Create a function to fix it and apply it.\n"
      ],
      "metadata": {
        "id": "cVOP8boPGhzK"
      },
      "execution_count": null,
      "outputs": []
    },
    {
      "cell_type": "code",
      "source": [
        "#Step 5. Set the right dates as the index. Pay attention at the data type, it should be datetime64[ns].\n",
        "data['date'] = pd.to_datetime(data[['Yr_Mo_Dy']], format='%y%m%d')\n",
        "data = data.set_index('date')\n",
        "print(data)"
      ],
      "metadata": {
        "colab": {
          "base_uri": "https://localhost:8080/",
          "height": 339
        },
        "id": "9pJFfZP2HS4H",
        "outputId": "2ed766e1-e20c-4a9f-cae2-e09394ac20ec"
      },
      "execution_count": 5,
      "outputs": [
        {
          "output_type": "error",
          "ename": "ValueError",
          "evalue": "to assemble mappings requires at least that [year, month, day] be specified: [day,month,year] is missing",
          "traceback": [
            "\u001b[0;31m---------------------------------------------------------------------------\u001b[0m",
            "\u001b[0;31mValueError\u001b[0m                                Traceback (most recent call last)",
            "\u001b[0;32m<ipython-input-5-476d1289fac1>\u001b[0m in \u001b[0;36m<cell line: 2>\u001b[0;34m()\u001b[0m\n\u001b[1;32m      1\u001b[0m \u001b[0;31m#Step 5. Set the right dates as the index. Pay attention at the data type, it should be datetime64[ns].\u001b[0m\u001b[0;34m\u001b[0m\u001b[0;34m\u001b[0m\u001b[0m\n\u001b[0;32m----> 2\u001b[0;31m \u001b[0mdata\u001b[0m\u001b[0;34m[\u001b[0m\u001b[0;34m'date'\u001b[0m\u001b[0;34m]\u001b[0m \u001b[0;34m=\u001b[0m \u001b[0mpd\u001b[0m\u001b[0;34m.\u001b[0m\u001b[0mto_datetime\u001b[0m\u001b[0;34m(\u001b[0m\u001b[0mdata\u001b[0m\u001b[0;34m[\u001b[0m\u001b[0;34m[\u001b[0m\u001b[0;34m'Yr_Mo_Dy'\u001b[0m\u001b[0;34m]\u001b[0m\u001b[0;34m]\u001b[0m\u001b[0;34m,\u001b[0m \u001b[0mformat\u001b[0m\u001b[0;34m=\u001b[0m\u001b[0;34m'%y%m%d'\u001b[0m\u001b[0;34m)\u001b[0m\u001b[0;34m\u001b[0m\u001b[0;34m\u001b[0m\u001b[0m\n\u001b[0m\u001b[1;32m      3\u001b[0m \u001b[0mdata\u001b[0m \u001b[0;34m=\u001b[0m \u001b[0mdata\u001b[0m\u001b[0;34m.\u001b[0m\u001b[0mset_index\u001b[0m\u001b[0;34m(\u001b[0m\u001b[0;34m'date'\u001b[0m\u001b[0;34m)\u001b[0m\u001b[0;34m\u001b[0m\u001b[0;34m\u001b[0m\u001b[0m\n\u001b[1;32m      4\u001b[0m \u001b[0mprint\u001b[0m\u001b[0;34m(\u001b[0m\u001b[0mdata\u001b[0m\u001b[0;34m)\u001b[0m\u001b[0;34m\u001b[0m\u001b[0;34m\u001b[0m\u001b[0m\n",
            "\u001b[0;32m/usr/local/lib/python3.10/dist-packages/pandas/core/tools/datetimes.py\u001b[0m in \u001b[0;36mto_datetime\u001b[0;34m(arg, errors, dayfirst, yearfirst, utc, format, exact, unit, infer_datetime_format, origin, cache)\u001b[0m\n\u001b[1;32m   1051\u001b[0m             \u001b[0mresult\u001b[0m \u001b[0;34m=\u001b[0m \u001b[0marg\u001b[0m\u001b[0;34m.\u001b[0m\u001b[0m_constructor\u001b[0m\u001b[0;34m(\u001b[0m\u001b[0mvalues\u001b[0m\u001b[0;34m,\u001b[0m \u001b[0mindex\u001b[0m\u001b[0;34m=\u001b[0m\u001b[0marg\u001b[0m\u001b[0;34m.\u001b[0m\u001b[0mindex\u001b[0m\u001b[0;34m,\u001b[0m \u001b[0mname\u001b[0m\u001b[0;34m=\u001b[0m\u001b[0marg\u001b[0m\u001b[0;34m.\u001b[0m\u001b[0mname\u001b[0m\u001b[0;34m)\u001b[0m\u001b[0;34m\u001b[0m\u001b[0;34m\u001b[0m\u001b[0m\n\u001b[1;32m   1052\u001b[0m     \u001b[0;32melif\u001b[0m \u001b[0misinstance\u001b[0m\u001b[0;34m(\u001b[0m\u001b[0marg\u001b[0m\u001b[0;34m,\u001b[0m \u001b[0;34m(\u001b[0m\u001b[0mABCDataFrame\u001b[0m\u001b[0;34m,\u001b[0m \u001b[0mabc\u001b[0m\u001b[0;34m.\u001b[0m\u001b[0mMutableMapping\u001b[0m\u001b[0;34m)\u001b[0m\u001b[0;34m)\u001b[0m\u001b[0;34m:\u001b[0m\u001b[0;34m\u001b[0m\u001b[0;34m\u001b[0m\u001b[0m\n\u001b[0;32m-> 1053\u001b[0;31m         \u001b[0mresult\u001b[0m \u001b[0;34m=\u001b[0m \u001b[0m_assemble_from_unit_mappings\u001b[0m\u001b[0;34m(\u001b[0m\u001b[0marg\u001b[0m\u001b[0;34m,\u001b[0m \u001b[0merrors\u001b[0m\u001b[0;34m,\u001b[0m \u001b[0mutc\u001b[0m\u001b[0;34m)\u001b[0m\u001b[0;34m\u001b[0m\u001b[0;34m\u001b[0m\u001b[0m\n\u001b[0m\u001b[1;32m   1054\u001b[0m     \u001b[0;32melif\u001b[0m \u001b[0misinstance\u001b[0m\u001b[0;34m(\u001b[0m\u001b[0marg\u001b[0m\u001b[0;34m,\u001b[0m \u001b[0mIndex\u001b[0m\u001b[0;34m)\u001b[0m\u001b[0;34m:\u001b[0m\u001b[0;34m\u001b[0m\u001b[0;34m\u001b[0m\u001b[0m\n\u001b[1;32m   1055\u001b[0m         \u001b[0mcache_array\u001b[0m \u001b[0;34m=\u001b[0m \u001b[0m_maybe_cache\u001b[0m\u001b[0;34m(\u001b[0m\u001b[0marg\u001b[0m\u001b[0;34m,\u001b[0m \u001b[0mformat\u001b[0m\u001b[0;34m,\u001b[0m \u001b[0mcache\u001b[0m\u001b[0;34m,\u001b[0m \u001b[0mconvert_listlike\u001b[0m\u001b[0;34m)\u001b[0m\u001b[0;34m\u001b[0m\u001b[0;34m\u001b[0m\u001b[0m\n",
            "\u001b[0;32m/usr/local/lib/python3.10/dist-packages/pandas/core/tools/datetimes.py\u001b[0m in \u001b[0;36m_assemble_from_unit_mappings\u001b[0;34m(arg, errors, utc)\u001b[0m\n\u001b[1;32m   1167\u001b[0m     \u001b[0;32mif\u001b[0m \u001b[0mlen\u001b[0m\u001b[0;34m(\u001b[0m\u001b[0mreq\u001b[0m\u001b[0;34m)\u001b[0m\u001b[0;34m:\u001b[0m\u001b[0;34m\u001b[0m\u001b[0;34m\u001b[0m\u001b[0m\n\u001b[1;32m   1168\u001b[0m         \u001b[0m_required\u001b[0m \u001b[0;34m=\u001b[0m \u001b[0;34m\",\"\u001b[0m\u001b[0;34m.\u001b[0m\u001b[0mjoin\u001b[0m\u001b[0;34m(\u001b[0m\u001b[0mreq\u001b[0m\u001b[0;34m)\u001b[0m\u001b[0;34m\u001b[0m\u001b[0;34m\u001b[0m\u001b[0m\n\u001b[0;32m-> 1169\u001b[0;31m         raise ValueError(\n\u001b[0m\u001b[1;32m   1170\u001b[0m             \u001b[0;34m\"to assemble mappings requires at least that \"\u001b[0m\u001b[0;34m\u001b[0m\u001b[0;34m\u001b[0m\u001b[0m\n\u001b[1;32m   1171\u001b[0m             \u001b[0;34mf\"[year, month, day] be specified: [{_required}] is missing\"\u001b[0m\u001b[0;34m\u001b[0m\u001b[0;34m\u001b[0m\u001b[0m\n",
            "\u001b[0;31mValueError\u001b[0m: to assemble mappings requires at least that [year, month, day] be specified: [day,month,year] is missing"
          ]
        }
      ]
    },
    {
      "cell_type": "code",
      "source": [
        "#Step 6. Compute how many values are missing for each location over the entire record.\n",
        "#They should be ignored in all calculations below.\n",
        "missing_values = data.isnull().sum()\n",
        "print(missing_values)"
      ],
      "metadata": {
        "colab": {
          "base_uri": "https://localhost:8080/"
        },
        "id": "t5kZ5CAmIWzv",
        "outputId": "cffafc72-c3c9-4e8f-fc9e-b64378039614"
      },
      "execution_count": 6,
      "outputs": [
        {
          "output_type": "stream",
          "name": "stdout",
          "text": [
            "Yr_Mo_Dy    0\n",
            "RPT         6\n",
            "VAL         3\n",
            "ROS         2\n",
            "KIL         5\n",
            "SHA         2\n",
            "BIR         0\n",
            "DUB         3\n",
            "CLA         2\n",
            "MUL         3\n",
            "CLO         1\n",
            "BEL         0\n",
            "MAL         4\n",
            "dtype: int64\n"
          ]
        }
      ]
    },
    {
      "cell_type": "code",
      "source": [
        "#Step 7. Compute how many non-missing values there are in total.\n",
        "non_missing_values = data.notnull().sum()\n",
        "print(non_missing_values)\n",
        "total= non_missing_values.sum()\n",
        "print(\"\\n\", \"total is equal to:\", total)"
      ],
      "metadata": {
        "colab": {
          "base_uri": "https://localhost:8080/"
        },
        "id": "4iQPNl4EI0pR",
        "outputId": "2ce56426-6741-4fa5-ba5c-cf453d396e58"
      },
      "execution_count": 13,
      "outputs": [
        {
          "output_type": "stream",
          "name": "stdout",
          "text": [
            "Yr_Mo_Dy    6574\n",
            "RPT         6568\n",
            "VAL         6571\n",
            "ROS         6572\n",
            "KIL         6569\n",
            "SHA         6572\n",
            "BIR         6574\n",
            "DUB         6571\n",
            "CLA         6572\n",
            "MUL         6571\n",
            "CLO         6573\n",
            "BEL         6574\n",
            "MAL         6570\n",
            "dtype: int64\n",
            "\n",
            " total is equal to: 85431\n"
          ]
        }
      ]
    },
    {
      "cell_type": "code",
      "source": [
        "#Step 8. Calculate the mean windspeeds of the windspeeds over all the locations and all the times.\n",
        "#A single number for the entire dataset.\n",
        "#mean_windspeed = data.mean().mean()\n",
        "#print(mean_windspeed)\n",
        "#we use select_dtypes to include only the columns with data type float64 and then calculating the mean\n",
        "mean_windspeed = data.select_dtypes(include=['float64']).stack().mean()\n",
        "print(mean_windspeed)"
      ],
      "metadata": {
        "colab": {
          "base_uri": "https://localhost:8080/"
        },
        "id": "tjwOAnn6JwNk",
        "outputId": "1102655b-c553-4e4a-c7e3-554eab7fdd98"
      },
      "execution_count": 16,
      "outputs": [
        {
          "output_type": "stream",
          "name": "stdout",
          "text": [
            "10.22788376428218\n"
          ]
        }
      ]
    },
    {
      "cell_type": "code",
      "source": [
        "#Step 9. Create a DataFrame called loc_stats and calculate the min, max and mean windspeeds and standard deviations of the windspeeds at each location over all the days\n",
        "#A different set of numbers for each location.\n",
        "loc_stats = data.agg(['min', 'max', 'mean', 'std'])\n",
        "print(loc_stats)"
      ],
      "metadata": {
        "colab": {
          "base_uri": "https://localhost:8080/"
        },
        "id": "wgSiPYtsLtXg",
        "outputId": "d7b52c05-4329-46b2-f2f9-d53a02404799"
      },
      "execution_count": 17,
      "outputs": [
        {
          "output_type": "stream",
          "name": "stdout",
          "text": [
            "                           Yr_Mo_Dy        RPT        VAL        ROS  \\\n",
            "min             1974-01-01 00:00:00   0.670000   0.210000   1.500000   \n",
            "max             2073-12-31 00:00:00  35.800000  33.370000  33.840000   \n",
            "mean  2042-03-23 06:48:57.389716992  12.362987  10.644314  11.660526   \n",
            "std   14936 days 08:22:10.054896896   5.618413   5.267356   5.008450   \n",
            "\n",
            "            KIL        SHA        BIR        DUB        CLA        MUL  \\\n",
            "min    0.000000   0.130000   0.000000   0.000000   0.000000   0.000000   \n",
            "max   28.460000  37.540000  26.160000  30.370000  31.080000  25.880000   \n",
            "mean   6.306468  10.455834   7.092254   9.797343   8.495053   8.493590   \n",
            "std    3.605811   4.936125   3.968683   4.977555   4.499449   4.166872   \n",
            "\n",
            "            CLO        BEL        MAL  \n",
            "min    0.040000   0.130000   0.670000  \n",
            "max   28.210000  42.380000  42.540000  \n",
            "mean   8.707332  13.121007  15.599079  \n",
            "std    4.503954   5.835037   6.699794  \n"
          ]
        }
      ]
    },
    {
      "cell_type": "code",
      "source": [
        "#Step 10. Create a DataFrame called day_stats and calculate the min, max and mean windspeed and standard deviations of the windspeeds across all the locations at each day.\n",
        "#A different set of numbers for each day.\n",
        "day_stats = data.select_dtypes(include=['float64']).agg(['min', 'max', 'mean', 'std'], axis=1)\n",
        "print(day_stats)\n"
      ],
      "metadata": {
        "colab": {
          "base_uri": "https://localhost:8080/"
        },
        "id": "gF658O18MTQL",
        "outputId": "9b679aba-ca7d-45da-b7a4-1d710dd5f7b1"
      },
      "execution_count": 19,
      "outputs": [
        {
          "output_type": "stream",
          "name": "stdout",
          "text": [
            "       min    max       mean       std\n",
            "0     9.29  18.50  13.018182  2.808875\n",
            "1     6.50  17.54  11.336364  3.188994\n",
            "2     6.17  18.50  11.641818  3.681912\n",
            "3     1.79  11.75   6.619167  3.198126\n",
            "4     6.17  13.33  10.630000  2.445356\n",
            "...    ...    ...        ...       ...\n",
            "6569  8.08  40.08  16.708333  7.868076\n",
            "6570  5.00  41.46  15.150000  9.687857\n",
            "6571  8.71  29.58  14.890000  5.756836\n",
            "6572  9.13  28.79  15.367500  5.540437\n",
            "6573  9.59  27.29  15.402500  5.702483\n",
            "\n",
            "[6574 rows x 4 columns]\n"
          ]
        }
      ]
    },
    {
      "cell_type": "code",
      "source": [
        "#Step 11. Find the average windspeed in January for each location.\n",
        "#Treat January 1961 and January 1962 both as January.\n",
        "january_windspeed = data[data.index.Mo == 1].groupby(data.index.Yr).mean()\n",
        "#data[data.index.month == 1]-filters the DataFrame data to include only the rows where the month of the index is equal to 1, i.e., January.\n",
        "print(january_windspeed)\n"
      ],
      "metadata": {
        "id": "lrUC6s9lNLdc"
      },
      "execution_count": null,
      "outputs": []
    },
    {
      "cell_type": "code",
      "source": [
        "#Step 12. Downsample the record to a yearly frequency for each location.\n",
        "yearly_data= data.resample('Y').mean()\n",
        "print(yearly_data)"
      ],
      "metadata": {
        "id": "a1sk4Wy5O2eo"
      },
      "execution_count": null,
      "outputs": []
    },
    {
      "cell_type": "code",
      "source": [
        "#Step 13. Downsample the record to a monthly frequency for each location.\n",
        "monthly_data = data.resample('M').mean()\n",
        "print(monthly_data)"
      ],
      "metadata": {
        "id": "izn1z-LnPinN"
      },
      "execution_count": null,
      "outputs": []
    },
    {
      "cell_type": "code",
      "source": [
        "#Step 14. Downsample the record to a weekly frequency for each location.\n",
        "weekly_data = data.resample('W').mean()\n",
        "print(weekly_data)"
      ],
      "metadata": {
        "id": "4C6vAWhFPxLx"
      },
      "execution_count": null,
      "outputs": []
    },
    {
      "cell_type": "code",
      "source": [
        "#Step 15. Calculate the min, max and mean windspeeds and standard deviations of the windspeeds across all locations for each week (assume that the first week starts on January 2 1961) for the first 52 weeks.\n",
        "weekly_stats = data.resample('W').agg(['min', 'max', 'mean', 'std']).iloc[:52]\n",
        "print(weekly_stats)\n"
      ],
      "metadata": {
        "id": "ZIQ3w72BQCuT"
      },
      "execution_count": null,
      "outputs": []
    },
    {
      "cell_type": "markdown",
      "source": [],
      "metadata": {
        "id": "vsg45UwqIbda"
      }
    }
  ]
}