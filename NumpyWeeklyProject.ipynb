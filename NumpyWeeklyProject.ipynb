{
  "nbformat": 4,
  "nbformat_minor": 0,
  "metadata": {
    "colab": {
      "provenance": [],
      "authorship_tag": "ABX9TyNVuDvirr0/9YgNudpTtNH1",
      "include_colab_link": true
    },
    "kernelspec": {
      "name": "python3",
      "display_name": "Python 3"
    },
    "language_info": {
      "name": "python"
    }
  },
  "cells": [
    {
      "cell_type": "markdown",
      "metadata": {
        "id": "view-in-github",
        "colab_type": "text"
      },
      "source": [
        "<a href=\"https://colab.research.google.com/github/OJO44/Python-Data-Analysis/blob/main/NumpyWeeklyProject.ipynb\" target=\"_parent\"><img src=\"https://colab.research.google.com/assets/colab-badge.svg\" alt=\"Open In Colab\"/></a>"
      ]
    },
    {
      "cell_type": "code",
      "execution_count": null,
      "metadata": {
        "colab": {
          "base_uri": "https://localhost:8080/"
        },
        "id": "uy8yCRYzSmbv",
        "outputId": "94a2cdb3-d72b-4461-bc28-ec65fb28e980"
      },
      "outputs": [
        {
          "output_type": "stream",
          "name": "stdout",
          "text": [
            "Nearest value to 25 in the array is: 20\n"
          ]
        }
      ],
      "source": [
        "#61 Find the nearest value from a given value in an array\n",
        "import numpy as np\n",
        "\n",
        "def get_nearest_value(arr, value):\n",
        "    arr = np.array(arr)  # Convert input list to a NumPy array\n",
        "    idx = np.abs(arr - value).argmin()  # Calculate the absolute difference between each element in the array and the specified value\n",
        "    return arr[idx]  # Return the nearest value\n",
        "\n",
        "my_array = [10, 20, 30, 40, 50]\n",
        "target_value = 25\n",
        "nearest_value = get_nearest_value(my_array, target_value)  # Call the function get_nearest_value\n",
        "print(f\"Nearest value to {target_value} in the array is: {nearest_value}\")\n",
        "\n"
      ]
    },
    {
      "cell_type": "code",
      "source": [
        "#62. Considering two arrays with shape (1,3) and (3,1), how to compute their sum using an iterator\n",
        "arr1 = np.array([[10, 20, 30]])\n",
        "arr2 = np.array([[40], [50], [60]])\n",
        "\n",
        "Iterator  = np.nditer([arr1, arr2])  # Create an iterator over both arrays\n",
        "total_sum = 0\n",
        "for x, y in Iterator:\n",
        "    total_sum += x + y\n",
        "\n",
        "print(f\"Sum of arr1 and arr2: {total_sum}\")\n"
      ],
      "metadata": {
        "colab": {
          "base_uri": "https://localhost:8080/"
        },
        "id": "vnXluwufVDcU",
        "outputId": "abf077c6-4f1f-4b54-a9c8-4270676941de"
      },
      "execution_count": null,
      "outputs": [
        {
          "output_type": "stream",
          "name": "stdout",
          "text": [
            "Sum of arr1 and arr2: 630\n"
          ]
        }
      ]
    },
    {
      "cell_type": "code",
      "source": [
        "#64. Consider a given vector, how to add 1 to each element indexed by a second vector (be careful with repeated indices)?\n"
      ],
      "metadata": {
        "id": "gOv0lWs5WVDR"
      },
      "execution_count": null,
      "outputs": []
    },
    {
      "cell_type": "code",
      "source": [
        "#65. How to accumulate elements of a vector (X) to an array (F) based on an index list (I)? (★★★)\n",
        "import numpy as np\n",
        "\n",
        "# Vector X\n",
        "X = np.array([10, 20, 30, 40, 50])\n",
        "\n",
        "# Index list I\n",
        "I = np.array([1, 3, 9, 3, 4])\n",
        "\n",
        "# Create an array F and accumulate elements of X based on the index list I\n",
        "F = np.bincount(I, weights=X)\n",
        "\n",
        "print(F)\n"
      ],
      "metadata": {
        "colab": {
          "base_uri": "https://localhost:8080/"
        },
        "id": "ydUOxX3JXFnY",
        "outputId": "3bc40376-4e59-4049-bd80-ea8d7a93ae15"
      },
      "execution_count": 16,
      "outputs": [
        {
          "output_type": "stream",
          "name": "stdout",
          "text": [
            "[ 0. 10.  0. 60. 50.  0.  0.  0.  0. 30.]\n"
          ]
        }
      ]
    },
    {
      "cell_type": "code",
      "source": [
        "#66. Considering a (w,h,3) image of (dtype=ubyte), compute the number of unique colors\n"
      ],
      "metadata": {
        "id": "hYiNgi92XIJn"
      },
      "execution_count": null,
      "outputs": []
    },
    {
      "cell_type": "code",
      "source": [
        "#67. Considering a four dimensions array, how to get sum over the last two axis at once?"
      ],
      "metadata": {
        "id": "zgB0uT-WXO7f"
      },
      "execution_count": null,
      "outputs": []
    },
    {
      "cell_type": "code",
      "source": [
        "#68. Considering a one-dimensional vector D, how to compute means of subsets of D using a vector S of same size describing subset indices\n",
        "import numpy as np\n",
        "# Create the one-dimensional vector D\n",
        "D = np.array([1, 2, 3, 4, 5, 6, 7, 8, 9])\n",
        "# Create the vector S of subset indices\n",
        "S = np.array([0, 0, 0, 1, 1, 1, 2, 2, 2])\n",
        "# Compute the means of subsets of D using S\n",
        "means = np.bincount(S, weights=D) / np.bincount(S)\n",
        "print(means)\n"
      ],
      "metadata": {
        "colab": {
          "base_uri": "https://localhost:8080/"
        },
        "id": "emNRHPO6XV7z",
        "outputId": "50812b80-fb1c-41b1-a73b-916526d44096"
      },
      "execution_count": 15,
      "outputs": [
        {
          "output_type": "stream",
          "name": "stdout",
          "text": [
            "[2. 5. 8.]\n"
          ]
        }
      ]
    },
    {
      "cell_type": "code",
      "source": [
        "#69. How to get the diagonal of a dot product?\n",
        "arr5 = np.array([[3, 4], [2, 2]])\n",
        "arr6 = np.array([[2, 1], [5, 2]])\n",
        "result = np.diagonal(np.dot(arr5, arr6)) # TO TRANSPOSE USE ARR.T\n",
        "print(result)"
      ],
      "metadata": {
        "colab": {
          "base_uri": "https://localhost:8080/"
        },
        "id": "aQKlqtD-Xc00",
        "outputId": "4a756210-a82e-4517-841f-1b4c42b0f219"
      },
      "execution_count": 14,
      "outputs": [
        {
          "output_type": "stream",
          "name": "stdout",
          "text": [
            "[26  6]\n"
          ]
        }
      ]
    },
    {
      "cell_type": "code",
      "source": [
        "#70. Consider the vector [1, 2, 3, 4, 5], how to build a new vector with 3 consecutive zeros interleaved between each value?\n",
        "\n"
      ],
      "metadata": {
        "id": "relg-YBYXhpe"
      },
      "execution_count": 13,
      "outputs": []
    },
    {
      "cell_type": "code",
      "source": [
        "#71. Consider an array of dimension (5,5,3), how to mulitply it by an array with dimensions (5,5)?\n",
        "arr3= np.random.rand(5,5,3)\n",
        "arr4= np.random.rand(5,5)\n",
        "result = arr3 * arr4[:,:,None]\n",
        "print(result)\n"
      ],
      "metadata": {
        "colab": {
          "base_uri": "https://localhost:8080/"
        },
        "id": "MfWOtrl4Xopa",
        "outputId": "34ae3a2c-d240-4a83-fb9a-a0efe55b8176"
      },
      "execution_count": 10,
      "outputs": [
        {
          "output_type": "stream",
          "name": "stdout",
          "text": [
            "[[[0.22866115 0.16341283 0.19361946]\n",
            "  [0.14229835 0.07555214 0.19527446]\n",
            "  [0.26805742 0.24440819 0.32264718]\n",
            "  [0.0036574  0.01545094 0.0537127 ]\n",
            "  [0.0346826  0.0070427  0.01992664]]\n",
            "\n",
            " [[0.40915945 0.15800437 0.16982437]\n",
            "  [0.41294204 0.40034646 0.31385663]\n",
            "  [0.03484862 0.29631522 0.21067294]\n",
            "  [0.04733746 0.46298055 0.00419647]\n",
            "  [0.25841131 0.07718987 0.29616033]]\n",
            "\n",
            " [[0.01998364 0.01728268 0.00433919]\n",
            "  [0.17693724 0.78184684 0.56578376]\n",
            "  [0.02794514 0.09538858 0.0152516 ]\n",
            "  [0.07100128 0.71125691 0.02467199]\n",
            "  [0.05987224 0.00310754 0.0945904 ]]\n",
            "\n",
            " [[0.42125805 0.34808947 0.11610137]\n",
            "  [0.01067812 0.00511087 0.01023989]\n",
            "  [0.19651775 0.20984383 0.58695579]\n",
            "  [0.33258964 0.16322069 0.19304637]\n",
            "  [0.1421696  0.50911042 0.50236595]]\n",
            "\n",
            " [[0.01105545 0.00970368 0.02553568]\n",
            "  [0.04860953 0.35652813 0.41406536]\n",
            "  [0.35059407 0.3166952  0.00111853]\n",
            "  [0.12593226 0.32954307 0.59701315]\n",
            "  [0.47990793 0.01345207 0.71781291]]]\n"
          ]
        }
      ]
    },
    {
      "cell_type": "code",
      "source": [
        "#72. How to swap two rows of an array?\n",
        "arr = np.array([[10,20,30],[40,50,60],[70,80,90]])\n",
        "print(arr)\n",
        "arr[[0,1]]=arr[[1,0]]\n",
        "print(\"\\n\", arr)"
      ],
      "metadata": {
        "colab": {
          "base_uri": "https://localhost:8080/"
        },
        "id": "aiqe1NTgXyJ5",
        "outputId": "e3348e05-cfc2-40fd-a713-818a32036d86"
      },
      "execution_count": 6,
      "outputs": [
        {
          "output_type": "stream",
          "name": "stdout",
          "text": [
            "[[10 20 30]\n",
            " [40 50 60]\n",
            " [70 80 90]]\n",
            "\n",
            " [[40 50 60]\n",
            " [10 20 30]\n",
            " [70 80 90]]\n"
          ]
        }
      ]
    },
    {
      "cell_type": "code",
      "source": [
        "#73 Consider a set of 10 triplets describing 10 triangles (with shared vertices), find the set of unique line segments composing all the triangles (★★★)"
      ],
      "metadata": {
        "id": "xgVJVtXricyW"
      },
      "execution_count": null,
      "outputs": []
    },
    {
      "cell_type": "code",
      "source": [
        "#74. Given a sorted array C that corresponds to a bincount, how to produce an array A such that np.bincount(A) == C? (★★★)"
      ],
      "metadata": {
        "id": "JF-j9SEUlOFa"
      },
      "execution_count": null,
      "outputs": []
    },
    {
      "cell_type": "code",
      "source": [
        "#75. How to compute averages using a sliding window over an array? (★★★)\n",
        ""
      ],
      "metadata": {
        "id": "wyTQ1hVYlSZn"
      },
      "execution_count": null,
      "outputs": []
    },
    {
      "cell_type": "code",
      "source": [
        "#76. Consider a one-dimensional array Z, build a two-dimensional array whose first row is (Z[0],Z[1],Z[2]) and each subsequent row is shifted by 1 (last row should be (Z[-3],Z[-2],Z[-1]) (★★★)"
      ],
      "metadata": {
        "id": "Ztd8xPZOlXVi"
      },
      "execution_count": null,
      "outputs": []
    },
    {
      "cell_type": "code",
      "source": [
        "#77. How to negate a boolean, or to change the sign of a float inplace? (★★★)"
      ],
      "metadata": {
        "id": "zIfu3BF-laEd"
      },
      "execution_count": null,
      "outputs": []
    },
    {
      "cell_type": "code",
      "source": [
        "#78. Consider 2 sets of points P0,P1 describing lines (2d) and a point p, how to compute distance from p to each line i (P0[i],P1[i])? (★★★)"
      ],
      "metadata": {
        "id": "lwJmaq4Fld_b"
      },
      "execution_count": null,
      "outputs": []
    },
    {
      "cell_type": "code",
      "source": [
        "#79. Consider 2 sets of points P0,P1 describing lines (2d) and a set of points P, how to compute distance from each point j (P[j]) to each line i (P0[i],P1[i])? (★★★)"
      ],
      "metadata": {
        "id": "DZ_632CRliNy"
      },
      "execution_count": null,
      "outputs": []
    },
    {
      "cell_type": "code",
      "source": [
        "#80. Consider an arbitrary array, write a function that extract a subpart with a fixed shape and centered on a given element (pad with a fill value when necessary) (★★★)"
      ],
      "metadata": {
        "id": "ICB1gNyulkl-"
      },
      "execution_count": null,
      "outputs": []
    },
    {
      "cell_type": "code",
      "source": [
        "#81. Consider an array Z = [1,2,3,4,5,6,7,8,9,10,11,12,13,14], how to generate an array R = [[1,2,3,4], [2,3,4,5], [3,4,5,6], ..., [11,12,13,14]]? (★★★)"
      ],
      "metadata": {
        "id": "maRA6aL6lmF3"
      },
      "execution_count": null,
      "outputs": []
    },
    {
      "cell_type": "code",
      "source": [
        "#82. Compute a matrix rank (★★★)\n",
        "matrix1 = np.array([[1, 2], [4, 3], [8, 9]])\n",
        "\n",
        "# Compute the rank of the matrix\n",
        "rank = np.linalg.matrix_rank(matrix1)  #np.linalg.matrix_rank: This is a function provided by NumPy's linear algebra module (np.linalg). It calculates the rank of a matrix using its singular value decomposition (SVD).\n",
        "\n",
        "print(rank)\n"
      ],
      "metadata": {
        "colab": {
          "base_uri": "https://localhost:8080/"
        },
        "id": "E8wXVLaqlsGR",
        "outputId": "9c0fa444-e661-4a50-d885-44685078ad1c"
      },
      "execution_count": 19,
      "outputs": [
        {
          "output_type": "stream",
          "name": "stdout",
          "text": [
            "2\n"
          ]
        }
      ]
    },
    {
      "cell_type": "code",
      "source": [
        "#83. How to find the most frequent value in an array?\n",
        "# Assuming arr is the input array\n",
        "arr7 = np.array([1, 2, 3, 2, 2, 3,4])\n",
        "\n",
        "# Find the most frequent value\n",
        "most_frequent_value = np.bincount(arr7).argmax()\n",
        "\n",
        "print(most_frequent_value)\n"
      ],
      "metadata": {
        "colab": {
          "base_uri": "https://localhost:8080/"
        },
        "id": "0Cgm-YCBluXw",
        "outputId": "78e1b324-8be3-40c8-deb2-8e21b9492c36"
      },
      "execution_count": 18,
      "outputs": [
        {
          "output_type": "stream",
          "name": "stdout",
          "text": [
            "2\n"
          ]
        }
      ]
    },
    {
      "cell_type": "code",
      "source": [
        "#84. Extract all the contiguous 3x3 blocks from a random 10x10 matrix (★★★)\n"
      ],
      "metadata": {
        "id": "ZA2VxQzYoHAM"
      },
      "execution_count": null,
      "outputs": []
    },
    {
      "cell_type": "code",
      "source": [
        "#85. Create a 2D array subclass such that Z[i,j] == Z[j,i] (★★★)"
      ],
      "metadata": {
        "id": "TUikP7aXoMg8"
      },
      "execution_count": null,
      "outputs": []
    },
    {
      "cell_type": "code",
      "source": [
        "# 86. Consider a set of p matrices wich shape (n,n) and a set of p vectors with shape (n,1). How to compute the sum of of the p matrix products at once? (result has shape (n,1)) (★★★)"
      ],
      "metadata": {
        "id": "muLv8ia2oUwd"
      },
      "execution_count": null,
      "outputs": []
    },
    {
      "cell_type": "code",
      "source": [
        "#87 Consider a 16x16 array, how to get the block-sum (block size is 4x4)\n",
        "# Create a 16x16 array\n",
        "arr8= np.random.randint(1, 10, (16, 16))\n",
        "print(arr8)\n",
        "# Reshape and sum to get the block-sum\n",
        "block_sum = arr8.reshape(4, 4, 4, 4).sum(axis=(1, 3))\n",
        "\n",
        "print(\"\\n\", block_sum)\n"
      ],
      "metadata": {
        "colab": {
          "base_uri": "https://localhost:8080/"
        },
        "id": "4wjE4krXot0F",
        "outputId": "4fac3c88-b69e-4f66-c7ee-69ddbe4b17d1"
      },
      "execution_count": 21,
      "outputs": [
        {
          "output_type": "stream",
          "name": "stdout",
          "text": [
            "[[1 6 3 2 4 7 6 2 1 3 9 9 1 6 6 7]\n",
            " [3 8 9 8 7 7 2 6 4 6 3 5 5 4 7 1]\n",
            " [8 1 6 7 7 1 4 4 3 7 7 2 1 1 4 8]\n",
            " [2 4 7 8 6 3 6 8 4 3 7 5 6 6 2 3]\n",
            " [4 9 5 7 8 3 6 1 6 7 1 3 4 5 6 2]\n",
            " [9 5 1 7 6 3 8 1 4 8 9 9 9 7 6 7]\n",
            " [3 3 7 1 1 9 6 8 5 9 7 8 5 6 1 8]\n",
            " [1 9 4 7 4 6 3 1 5 8 1 3 5 5 5 8]\n",
            " [8 9 2 7 1 2 9 9 1 4 5 8 9 1 1 6]\n",
            " [3 5 3 4 8 5 4 2 8 1 4 6 3 9 5 8]\n",
            " [2 9 5 5 1 9 4 6 7 4 8 9 4 3 6 4]\n",
            " [3 5 4 7 9 6 7 5 6 2 5 3 3 9 3 8]\n",
            " [5 8 4 9 7 6 7 4 3 2 6 2 4 3 3 8]\n",
            " [3 1 9 7 9 9 2 7 6 4 5 4 9 2 7 1]\n",
            " [6 6 2 9 8 6 1 8 4 5 8 8 5 4 6 5]\n",
            " [4 6 9 7 6 6 9 7 9 1 1 6 5 1 7 6]]\n",
            "\n",
            " [[ 83  80  78  68]\n",
            " [ 82  74  93  89]\n",
            " [ 81  87  81  82]\n",
            " [ 95 102  74  76]]\n"
          ]
        }
      ]
    },
    {
      "cell_type": "code",
      "source": [
        "#88. How to implement the Game of Life using numpy arrays? (★★★)"
      ],
      "metadata": {
        "id": "KpHNMtuupchx"
      },
      "execution_count": null,
      "outputs": []
    },
    {
      "cell_type": "code",
      "source": [
        "#89 How to get the n largest values of an array (★★★\n",
        "arr10 = np.array([10, 5, 2, 12, 3, 9])\n",
        "n = 3\n",
        "# Get the n largest values of the array\n",
        "largest_values = arr10[np.argpartition(-arr10, n)[:n]]\n",
        "print(largest_values)\n"
      ],
      "metadata": {
        "colab": {
          "base_uri": "https://localhost:8080/"
        },
        "id": "jyEumHK9p2Pd",
        "outputId": "62f21f70-9c2b-4012-8524-3d0b87662b38"
      },
      "execution_count": 24,
      "outputs": [
        {
          "output_type": "stream",
          "name": "stdout",
          "text": [
            "[12 10  9]\n"
          ]
        }
      ]
    },
    {
      "cell_type": "code",
      "source": [
        "#90. Given an arbitrary number of vectors, build the cartesian product (every combination of every item)\n",
        "from itertools import product\n",
        "\n",
        "# Assuming vec1, vec2, vec3 are the input vectors\n",
        "vec1 = [0, 2]\n",
        "vec2 = [4, 2]\n",
        "vec3 = [7, 3]\n",
        "\n",
        "# Build the cartesian product of the input vectors\n",
        "cartesian_product = np.array(list(product(vec1, vec2, vec3)))\n",
        "\n",
        "print(cartesian_product)\n"
      ],
      "metadata": {
        "colab": {
          "base_uri": "https://localhost:8080/"
        },
        "id": "Ue7QbEFFqjT5",
        "outputId": "eae92ec8-4b0d-48e9-a8b9-fc2d2a443723"
      },
      "execution_count": 25,
      "outputs": [
        {
          "output_type": "stream",
          "name": "stdout",
          "text": [
            "[[0 4 7]\n",
            " [0 4 3]\n",
            " [0 2 7]\n",
            " [0 2 3]\n",
            " [2 4 7]\n",
            " [2 4 3]\n",
            " [2 2 7]\n",
            " [2 2 3]]\n"
          ]
        }
      ]
    }
  ]
}