{
  "nbformat": 4,
  "nbformat_minor": 0,
  "metadata": {
    "colab": {
      "provenance": [],
      "authorship_tag": "ABX9TyM3ZUoALEjU2gFn6sohGRLc",
      "include_colab_link": true
    },
    "kernelspec": {
      "name": "python3",
      "display_name": "Python 3"
    },
    "language_info": {
      "name": "python"
    }
  },
  "cells": [
    {
      "cell_type": "markdown",
      "metadata": {
        "id": "view-in-github",
        "colab_type": "text"
      },
      "source": [
        "<a href=\"https://colab.research.google.com/github/OJO44/Python-Data-Analysis/blob/main/NumpyDailyPractice3.ipynb\" target=\"_parent\"><img src=\"https://colab.research.google.com/assets/colab-badge.svg\" alt=\"Open In Colab\"/></a>"
      ]
    },
    {
      "cell_type": "markdown",
      "source": [],
      "metadata": {
        "id": "EumP_qqvJkeD"
      }
    },
    {
      "cell_type": "code",
      "execution_count": null,
      "metadata": {
        "id": "JYBAmrLJJhWO"
      },
      "outputs": [],
      "source": [
        "import numpy as np\n"
      ]
    },
    {
      "cell_type": "code",
      "source": [
        "#32. Is the following expressions true?\n",
        "np.sqrt(-1) == np.emath.sqrt(-1)"
      ],
      "metadata": {
        "id": "kn9702DTJyXQ"
      },
      "execution_count": null,
      "outputs": []
    },
    {
      "cell_type": "code",
      "source": [
        "#33. How to get the dates of yesterday, today and tomorrow?\n",
        "today = np.datetime64('today', 'D')\n",
        "yesterday = today - np.timedelta64(1, 'D')\n",
        "tomorrow = today + np.timedelta64(1, 'D')\n",
        "\n",
        "print(\"Yesterday:\", yesterday)\n",
        "print(\"Today:\", today)\n",
        "print(\"Tomorrow:\", tomorrow)\n"
      ],
      "metadata": {
        "colab": {
          "base_uri": "https://localhost:8080/"
        },
        "id": "0yM3ykHLKQP-",
        "outputId": "0528341f-e135-4e61-fb0f-153d52dbe9c8"
      },
      "execution_count": null,
      "outputs": [
        {
          "output_type": "stream",
          "name": "stdout",
          "text": [
            "Yesterday: 2024-03-25\n",
            "Today: 2024-03-26\n",
            "Tomorrow: 2024-03-27\n"
          ]
        }
      ]
    },
    {
      "cell_type": "code",
      "source": [
        "#34. How to get all the dates corresponding to the month of July 2016\n",
        "# Create a range of dates for the month of July 2016\n",
        "dates_july_2016 = np.arange('2016-07', '2016-08', dtype='datetime64[D]')\n",
        "\n",
        "# Print all the dates corresponding to July 2016\n",
        "print(dates_july_2016)\n",
        "\n",
        "\n"
      ],
      "metadata": {
        "colab": {
          "base_uri": "https://localhost:8080/"
        },
        "id": "jz8aX8QfLG7-",
        "outputId": "602467ee-8ea9-471f-ebb0-f2b994ba5184"
      },
      "execution_count": null,
      "outputs": [
        {
          "output_type": "stream",
          "name": "stdout",
          "text": [
            "['2016-07-01' '2016-07-02' '2016-07-03' '2016-07-04' '2016-07-05'\n",
            " '2016-07-06' '2016-07-07' '2016-07-08' '2016-07-09' '2016-07-10'\n",
            " '2016-07-11' '2016-07-12' '2016-07-13' '2016-07-14' '2016-07-15'\n",
            " '2016-07-16' '2016-07-17' '2016-07-18' '2016-07-19' '2016-07-20'\n",
            " '2016-07-21' '2016-07-22' '2016-07-23' '2016-07-24' '2016-07-25'\n",
            " '2016-07-26' '2016-07-27' '2016-07-28' '2016-07-29' '2016-07-30'\n",
            " '2016-07-31']\n"
          ]
        }
      ]
    },
    {
      "cell_type": "code",
      "source": [
        "#35. How to compute ((A+B)*(-A/2)) in place (without copy)?\n"
      ],
      "metadata": {
        "id": "MxOOL4HzLmaF"
      },
      "execution_count": null,
      "outputs": []
    },
    {
      "cell_type": "code",
      "source": [
        "#36. Extract the integer part of a random array of positive numbers using 4 different methods"
      ],
      "metadata": {
        "id": "KhaHoSwqMctt"
      },
      "execution_count": null,
      "outputs": []
    },
    {
      "cell_type": "code",
      "source": [
        "#37. Create a 5x5 matrix with row values ranging from 0 to 4\n",
        "arr1 = np.zeros((5, 5))\n",
        "row_values = np.arange(5)\n",
        "arr1 += row_values\n",
        "print(arr1)"
      ],
      "metadata": {
        "colab": {
          "base_uri": "https://localhost:8080/"
        },
        "id": "l8bmXIblMqRO",
        "outputId": "3a02b40f-c30b-49e7-b837-ded260060adc"
      },
      "execution_count": null,
      "outputs": [
        {
          "output_type": "stream",
          "name": "stdout",
          "text": [
            "[[0. 1. 2. 3. 4.]\n",
            " [0. 1. 2. 3. 4.]\n",
            " [0. 1. 2. 3. 4.]\n",
            " [0. 1. 2. 3. 4.]\n",
            " [0. 1. 2. 3. 4.]]\n"
          ]
        }
      ]
    },
    {
      "cell_type": "code",
      "source": [
        "#38. Consider a generator function that generates 10 integers and use it to build an array\n",
        "def generator():\n",
        "  for i in range(10):\n",
        "    yield i  # yield is used to return values one at a time, while return exits the function entirely\n",
        "\n",
        "arr2 = np.array(list(generator()))\n",
        "print(arr2)"
      ],
      "metadata": {
        "colab": {
          "base_uri": "https://localhost:8080/"
        },
        "id": "QYGxUItdk6Y3",
        "outputId": "883fbb22-853b-4a2b-c52b-66b00650734e"
      },
      "execution_count": 7,
      "outputs": [
        {
          "output_type": "stream",
          "name": "stdout",
          "text": [
            "[0 1 2 3 4 5 6 7 8 9]\n"
          ]
        }
      ]
    },
    {
      "cell_type": "code",
      "source": [
        "#39. Create a vector of size 10 with values ranging from 0 to 1, both excluded\n",
        "arr3 = np.linspace(0,1,10, endpoint= False)\n",
        "print(arr3)"
      ],
      "metadata": {
        "colab": {
          "base_uri": "https://localhost:8080/"
        },
        "id": "PUtx1qssoENQ",
        "outputId": "d317f871-b999-492c-d2d6-d6759bf4ebff"
      },
      "execution_count": 10,
      "outputs": [
        {
          "output_type": "stream",
          "name": "stdout",
          "text": [
            "[0.  0.1 0.2 0.3 0.4 0.5 0.6 0.7 0.8 0.9]\n"
          ]
        }
      ]
    },
    {
      "cell_type": "code",
      "source": [
        "#40. Create a random vector of size 10 and sort it\n",
        "arr4 = np.random.rand(10)\n",
        "print(arr4)\n",
        "arr4.sort()"
      ],
      "metadata": {
        "colab": {
          "base_uri": "https://localhost:8080/"
        },
        "id": "xSAMeGJJp6f-",
        "outputId": "61bcf9aa-23be-4f18-f58f-3758f0aa49b0"
      },
      "execution_count": 17,
      "outputs": [
        {
          "output_type": "stream",
          "name": "stdout",
          "text": [
            "[0.35867614 0.77203703 0.28774144 0.37697523 0.04410084 0.07610289\n",
            " 0.96894006 0.43734112 0.44191617 0.74357282]\n"
          ]
        }
      ]
    },
    {
      "cell_type": "code",
      "source": [
        "#41. How to sum a small array faster than np.sum\n",
        "arr5 = np.array([1,2,3,4,5,6,7,8])\n",
        "result = sum(arr5)\n",
        "print(result)"
      ],
      "metadata": {
        "colab": {
          "base_uri": "https://localhost:8080/"
        },
        "id": "AA_DWsMmrbQ1",
        "outputId": "00e5e5c1-2f1a-45ba-c002-9bd977fbe117"
      },
      "execution_count": 18,
      "outputs": [
        {
          "output_type": "stream",
          "name": "stdout",
          "text": [
            "36\n"
          ]
        }
      ]
    },
    {
      "cell_type": "code",
      "source": [
        "#42. Consider two random array A and B, check if they are equal\n",
        "A = np.array([1,2,3,4])\n",
        "B = np.array ([5,6,7,8])\n",
        "are_equal = np.array_equal(A,B)\n",
        "print(are_equal)"
      ],
      "metadata": {
        "colab": {
          "base_uri": "https://localhost:8080/"
        },
        "id": "yjm9UF9nsP8D",
        "outputId": "87aabcaa-c9b8-4733-d6e4-0fa074546576"
      },
      "execution_count": 19,
      "outputs": [
        {
          "output_type": "stream",
          "name": "stdout",
          "text": [
            "False\n"
          ]
        }
      ]
    },
    {
      "cell_type": "code",
      "source": [
        "#43. Make an array immutable (read-only)\n",
        "arr6 = np.array([1,2,3,4,5,6])\n",
        "arr6.setflag(write= False)\n",
        "\n",
        "arr6[4] = 20\n",
        "print(arr6)"
      ],
      "metadata": {
        "colab": {
          "base_uri": "https://localhost:8080/",
          "height": 106
        },
        "id": "wAUqSuKBtzrh",
        "outputId": "4f99e39e-5d3e-42a8-b998-d33b63415a9b"
      },
      "execution_count": 21,
      "outputs": [
        {
          "output_type": "error",
          "ename": "SyntaxError",
          "evalue": "invalid syntax (<ipython-input-21-45ea4346f87e>, line 4)",
          "traceback": [
            "\u001b[0;36m  File \u001b[0;32m\"<ipython-input-21-45ea4346f87e>\"\u001b[0;36m, line \u001b[0;32m4\u001b[0m\n\u001b[0;31m    except Exception as e:\u001b[0m\n\u001b[0m    ^\u001b[0m\n\u001b[0;31mSyntaxError\u001b[0m\u001b[0;31m:\u001b[0m invalid syntax\n"
          ]
        }
      ]
    },
    {
      "cell_type": "code",
      "source": [
        "#44. Consider a random 10x2 matrix representing cartesian coordinates, convert them to polar coordinates\n"
      ],
      "metadata": {
        "id": "rsb0yFrZvdlw"
      },
      "execution_count": null,
      "outputs": []
    },
    {
      "cell_type": "code",
      "source": [
        "#45. Create random vector of size 10 and replace the maximum value by 0\n",
        "arr7 = np.random.random(10)\n",
        "max_value = np.argmax(arr7)\n",
        "arr7[max_value] =0\n",
        "print(arr7)\n"
      ],
      "metadata": {
        "colab": {
          "base_uri": "https://localhost:8080/"
        },
        "id": "4gCWqTHdwnvQ",
        "outputId": "e0d4fbf2-105c-4fdc-f981-358976dc1a63"
      },
      "execution_count": 22,
      "outputs": [
        {
          "output_type": "stream",
          "name": "stdout",
          "text": [
            "[0.         0.68651755 0.83241927 0.53048251 0.21790792 0.55673658\n",
            " 0.75776598 0.19225594 0.13939119 0.20107688]\n"
          ]
        }
      ]
    }
  ]
}