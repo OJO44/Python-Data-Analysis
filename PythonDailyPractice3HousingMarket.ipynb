{
  "nbformat": 4,
  "nbformat_minor": 0,
  "metadata": {
    "colab": {
      "provenance": [],
      "authorship_tag": "ABX9TyPto8dDpwrHKy0e4b/aCxxu",
      "include_colab_link": true
    },
    "kernelspec": {
      "name": "python3",
      "display_name": "Python 3"
    },
    "language_info": {
      "name": "python"
    }
  },
  "cells": [
    {
      "cell_type": "markdown",
      "metadata": {
        "id": "view-in-github",
        "colab_type": "text"
      },
      "source": [
        "<a href=\"https://colab.research.google.com/github/OJO44/Python-Data-Analysis/blob/main/PythonDailyPractice3HousingMarket.ipynb\" target=\"_parent\"><img src=\"https://colab.research.google.com/assets/colab-badge.svg\" alt=\"Open In Colab\"/></a>"
      ]
    },
    {
      "cell_type": "markdown",
      "source": [
        "**Housing Market**"
      ],
      "metadata": {
        "id": "4vApnXYZ6Zrc"
      }
    },
    {
      "cell_type": "code",
      "source": [
        "import pandas as pd\n",
        "import numpy as np"
      ],
      "metadata": {
        "id": "OyhUUpcJ6dI1"
      },
      "execution_count": 1,
      "outputs": []
    },
    {
      "cell_type": "code",
      "source": [
        "#Step 2. Create 3 differents Series, each of length 100, as follows:\n",
        "#The first a random number from 1 to 4\n",
        "#The second a random number from 1 to 3\n",
        "#The third a random number from 10,000 to 30,000\n",
        "series1 = pd.Series(np.random.randint(1,5, size = 100))\n",
        "series2 = pd.Series(np.random.randint(1,4, size = 100))\n",
        "series3 = pd.Series(np.random.randint(10000, 30001, size = 100))\n",
        "print(series1)\n",
        "print(series2)\n",
        "print(series3)"
      ],
      "metadata": {
        "colab": {
          "base_uri": "https://localhost:8080/"
        },
        "id": "1tvWwqbV797U",
        "outputId": "c90f6aa8-83c1-4126-8463-62ccb0f2e800"
      },
      "execution_count": 4,
      "outputs": [
        {
          "output_type": "stream",
          "name": "stdout",
          "text": [
            "0     3\n",
            "1     1\n",
            "2     3\n",
            "3     1\n",
            "4     1\n",
            "     ..\n",
            "95    3\n",
            "96    3\n",
            "97    1\n",
            "98    3\n",
            "99    1\n",
            "Length: 100, dtype: int64\n",
            "0     2\n",
            "1     3\n",
            "2     1\n",
            "3     2\n",
            "4     1\n",
            "     ..\n",
            "95    3\n",
            "96    1\n",
            "97    1\n",
            "98    2\n",
            "99    2\n",
            "Length: 100, dtype: int64\n",
            "0     11612\n",
            "1     20243\n",
            "2     13124\n",
            "3     21589\n",
            "4     21093\n",
            "      ...  \n",
            "95    12549\n",
            "96    26242\n",
            "97    29869\n",
            "98    11690\n",
            "99    19075\n",
            "Length: 100, dtype: int64\n"
          ]
        }
      ]
    },
    {
      "cell_type": "code",
      "source": [
        "#Step 3. Let's create a DataFrame by joinning the Series by column\n",
        "df1 = pd.DataFrame({'bedroom': series1, 'bathroom': series2, 'price': series3})\n",
        "print(df1)\n",
        "#Step 4. Change the name of the columns to bedrs, bathrs, price_sqr_meter\n",
        "df1 = df1.rename(columns={'bedroom': 'bedrs', 'bathroom': 'bathrs', 'price': 'price_sqr_meter'})\n",
        "print(df1)"
      ],
      "metadata": {
        "colab": {
          "base_uri": "https://localhost:8080/"
        },
        "id": "POCbYBu7-gr9",
        "outputId": "6604a559-afe9-48a8-967c-52c028a84f1c"
      },
      "execution_count": 32,
      "outputs": [
        {
          "output_type": "stream",
          "name": "stdout",
          "text": [
            "    bedroom  bathroom  price\n",
            "0         3         2  11612\n",
            "1         1         3  20243\n",
            "2         3         1  13124\n",
            "3         1         2  21589\n",
            "4         1         1  21093\n",
            "..      ...       ...    ...\n",
            "95        3         3  12549\n",
            "96        3         1  26242\n",
            "97        1         1  29869\n",
            "98        3         2  11690\n",
            "99        1         2  19075\n",
            "\n",
            "[100 rows x 3 columns]\n",
            "    bedrs  bathrs  price_sqr_meter\n",
            "0       3       2            11612\n",
            "1       1       3            20243\n",
            "2       3       1            13124\n",
            "3       1       2            21589\n",
            "4       1       1            21093\n",
            "..    ...     ...              ...\n",
            "95      3       3            12549\n",
            "96      3       1            26242\n",
            "97      1       1            29869\n",
            "98      3       2            11690\n",
            "99      1       2            19075\n",
            "\n",
            "[100 rows x 3 columns]\n"
          ]
        }
      ]
    },
    {
      "cell_type": "code",
      "source": [
        "# Step 5. Create a one column DataFrame with the values of the 3 Series and assign it to 'bigcolumn'\n",
        "bigcolumn = pd.concat([series1, series2, series3], ignore_index=True)\n",
        "print(bigcolumn)\n"
      ],
      "metadata": {
        "colab": {
          "base_uri": "https://localhost:8080/"
        },
        "id": "raDiYfd-Ik_S",
        "outputId": "a2ec5aed-129c-4242-9998-3ba52bb5c106"
      },
      "execution_count": 29,
      "outputs": [
        {
          "output_type": "stream",
          "name": "stdout",
          "text": [
            "0          3\n",
            "1          1\n",
            "2          3\n",
            "3          1\n",
            "4          1\n",
            "       ...  \n",
            "295    12549\n",
            "296    26242\n",
            "297    29869\n",
            "298    11690\n",
            "299    19075\n",
            "Length: 300, dtype: int64\n"
          ]
        }
      ]
    },
    {
      "cell_type": "code",
      "source": [
        "# Step 6. Check the length of the bigcolumn\n",
        "print(len(bigcolumn))"
      ],
      "metadata": {
        "colab": {
          "base_uri": "https://localhost:8080/"
        },
        "id": "KHskYNbeI_sN",
        "outputId": "bce0b8d3-ba50-4fc9-a00c-cd267609246f"
      },
      "execution_count": 30,
      "outputs": [
        {
          "output_type": "stream",
          "name": "stdout",
          "text": [
            "300\n"
          ]
        }
      ]
    },
    {
      "cell_type": "code",
      "source": [
        "# Step 7. Reindex the DataFrame so it goes from 0 to 299\n",
        "df1 = df1.reindex(range(300))\n",
        "print(df1)"
      ],
      "metadata": {
        "colab": {
          "base_uri": "https://localhost:8080/"
        },
        "id": "6ZCVbcgNJIcj",
        "outputId": "9c228422-e580-44dc-c799-fb3130c27e6b"
      },
      "execution_count": 31,
      "outputs": [
        {
          "output_type": "stream",
          "name": "stdout",
          "text": [
            "     bedroom  bathroom    price\n",
            "0        3.0       2.0  11612.0\n",
            "1        1.0       3.0  20243.0\n",
            "2        3.0       1.0  13124.0\n",
            "3        1.0       2.0  21589.0\n",
            "4        1.0       1.0  21093.0\n",
            "..       ...       ...      ...\n",
            "295      NaN       NaN      NaN\n",
            "296      NaN       NaN      NaN\n",
            "297      NaN       NaN      NaN\n",
            "298      NaN       NaN      NaN\n",
            "299      NaN       NaN      NaN\n",
            "\n",
            "[300 rows x 3 columns]\n"
          ]
        }
      ]
    }
  ]
}